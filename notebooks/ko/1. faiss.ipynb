{
 "cells": [
  {
   "cell_type": "markdown",
   "id": "101be929-7675-4748-a1a6-d4305c3d9a02",
   "metadata": {},
   "source": [
    "# Faiss: A library for efficient similarity search and clustering of dense vectors \n",
    "- [Faiss-코드](https://github.com/facebookresearch/faiss)\n",
    "- [Faiss-문서](https://github.com/facebookresearch/faiss/wiki)"
   ]
  },
  {
   "cell_type": "markdown",
   "id": "bf7eb3ab-53a3-4073-8b02-aa07dc26d805",
   "metadata": {},
   "source": [
    "## 0. 라이브러리 설치\n",
    "- `faiss-cpu`와 `faiss-gpu`의 차이점\n",
    "| 항목 | `faiss-cpu` | `faiss-gpu` |\n",
    "| --- | --- | --- |\n",
    "| 방법 | 벡터 인덱스 **CPU-RAM** 적재 | 벡터 인덱스 **GPU 메모리(VRAM)** 적재) |\n",
    "| 연산 | CPU 기반 연산 | CUDA(GPU) 기반 연산 |\n",
    "| 속도 | 느림 | 빠름 |\n",
    "| 구현 | `IndexFlatL2` 사용 | faiss.index_cpu_to_gpu() 사용 |"
   ]
  },
  {
   "cell_type": "code",
   "execution_count": 1,
   "id": "480900ce-f689-4d26-ba5f-e7b309de26b1",
   "metadata": {},
   "outputs": [
    {
     "name": "stdout",
     "output_type": "stream",
     "text": [
      "Requirement already satisfied: pypdf in /opt/conda/lib/python3.11/site-packages (5.7.0)\n",
      "\u001b[33mWARNING: Running pip as the 'root' user can result in broken permissions and conflicting behaviour with the system package manager, possibly rendering your system unusable. It is recommended to use a virtual environment instead: https://pip.pypa.io/warnings/venv. Use the --root-user-action option if you know what you are doing and want to suppress this warning.\u001b[0m\u001b[33m\n",
      "\u001b[0mRequirement already satisfied: spacy in /opt/conda/lib/python3.11/site-packages (3.8.7)\n",
      "Requirement already satisfied: spacy-legacy<3.1.0,>=3.0.11 in /opt/conda/lib/python3.11/site-packages (from spacy) (3.0.12)\n",
      "Requirement already satisfied: spacy-loggers<2.0.0,>=1.0.0 in /opt/conda/lib/python3.11/site-packages (from spacy) (1.0.5)\n",
      "Requirement already satisfied: murmurhash<1.1.0,>=0.28.0 in /opt/conda/lib/python3.11/site-packages (from spacy) (1.0.13)\n",
      "Requirement already satisfied: cymem<2.1.0,>=2.0.2 in /opt/conda/lib/python3.11/site-packages (from spacy) (2.0.11)\n",
      "Requirement already satisfied: preshed<3.1.0,>=3.0.2 in /opt/conda/lib/python3.11/site-packages (from spacy) (3.0.10)\n",
      "Requirement already satisfied: thinc<8.4.0,>=8.3.4 in /opt/conda/lib/python3.11/site-packages (from spacy) (8.3.6)\n",
      "Requirement already satisfied: wasabi<1.2.0,>=0.9.1 in /opt/conda/lib/python3.11/site-packages (from spacy) (1.1.3)\n",
      "Requirement already satisfied: srsly<3.0.0,>=2.4.3 in /opt/conda/lib/python3.11/site-packages (from spacy) (2.5.1)\n",
      "Requirement already satisfied: catalogue<2.1.0,>=2.0.6 in /opt/conda/lib/python3.11/site-packages (from spacy) (2.0.10)\n",
      "Requirement already satisfied: weasel<0.5.0,>=0.1.0 in /opt/conda/lib/python3.11/site-packages (from spacy) (0.4.1)\n",
      "Requirement already satisfied: typer<1.0.0,>=0.3.0 in /opt/conda/lib/python3.11/site-packages (from spacy) (0.16.0)\n",
      "Requirement already satisfied: tqdm<5.0.0,>=4.38.0 in /opt/conda/lib/python3.11/site-packages (from spacy) (4.67.1)\n",
      "Requirement already satisfied: numpy>=1.19.0 in /opt/conda/lib/python3.11/site-packages (from spacy) (2.2.6)\n",
      "Requirement already satisfied: requests<3.0.0,>=2.13.0 in /opt/conda/lib/python3.11/site-packages (from spacy) (2.32.3)\n",
      "Requirement already satisfied: pydantic!=1.8,!=1.8.1,<3.0.0,>=1.7.4 in /opt/conda/lib/python3.11/site-packages (from spacy) (2.11.7)\n",
      "Requirement already satisfied: jinja2 in /opt/conda/lib/python3.11/site-packages (from spacy) (3.1.6)\n",
      "Requirement already satisfied: setuptools in /opt/conda/lib/python3.11/site-packages (from spacy) (75.8.2)\n",
      "Requirement already satisfied: packaging>=20.0 in /opt/conda/lib/python3.11/site-packages (from spacy) (24.2)\n",
      "Requirement already satisfied: langcodes<4.0.0,>=3.2.0 in /opt/conda/lib/python3.11/site-packages (from spacy) (3.5.0)\n",
      "Requirement already satisfied: language-data>=1.2 in /opt/conda/lib/python3.11/site-packages (from langcodes<4.0.0,>=3.2.0->spacy) (1.3.0)\n",
      "Requirement already satisfied: annotated-types>=0.6.0 in /opt/conda/lib/python3.11/site-packages (from pydantic!=1.8,!=1.8.1,<3.0.0,>=1.7.4->spacy) (0.7.0)\n",
      "Requirement already satisfied: pydantic-core==2.33.2 in /opt/conda/lib/python3.11/site-packages (from pydantic!=1.8,!=1.8.1,<3.0.0,>=1.7.4->spacy) (2.33.2)\n",
      "Requirement already satisfied: typing-extensions>=4.12.2 in /opt/conda/lib/python3.11/site-packages (from pydantic!=1.8,!=1.8.1,<3.0.0,>=1.7.4->spacy) (4.14.0)\n",
      "Requirement already satisfied: typing-inspection>=0.4.0 in /opt/conda/lib/python3.11/site-packages (from pydantic!=1.8,!=1.8.1,<3.0.0,>=1.7.4->spacy) (0.4.1)\n",
      "Requirement already satisfied: charset_normalizer<4,>=2 in /opt/conda/lib/python3.11/site-packages (from requests<3.0.0,>=2.13.0->spacy) (3.4.2)\n",
      "Requirement already satisfied: idna<4,>=2.5 in /opt/conda/lib/python3.11/site-packages (from requests<3.0.0,>=2.13.0->spacy) (3.10)\n",
      "Requirement already satisfied: urllib3<3,>=1.21.1 in /opt/conda/lib/python3.11/site-packages (from requests<3.0.0,>=2.13.0->spacy) (2.4.0)\n",
      "Requirement already satisfied: certifi>=2017.4.17 in /opt/conda/lib/python3.11/site-packages (from requests<3.0.0,>=2.13.0->spacy) (2025.4.26)\n",
      "Requirement already satisfied: blis<1.4.0,>=1.3.0 in /opt/conda/lib/python3.11/site-packages (from thinc<8.4.0,>=8.3.4->spacy) (1.3.0)\n",
      "Requirement already satisfied: confection<1.0.0,>=0.0.1 in /opt/conda/lib/python3.11/site-packages (from thinc<8.4.0,>=8.3.4->spacy) (0.1.5)\n",
      "Requirement already satisfied: click>=8.0.0 in /opt/conda/lib/python3.11/site-packages (from typer<1.0.0,>=0.3.0->spacy) (8.2.1)\n",
      "Requirement already satisfied: shellingham>=1.3.0 in /opt/conda/lib/python3.11/site-packages (from typer<1.0.0,>=0.3.0->spacy) (1.5.4)\n",
      "Requirement already satisfied: rich>=10.11.0 in /opt/conda/lib/python3.11/site-packages (from typer<1.0.0,>=0.3.0->spacy) (14.0.0)\n",
      "Requirement already satisfied: cloudpathlib<1.0.0,>=0.7.0 in /opt/conda/lib/python3.11/site-packages (from weasel<0.5.0,>=0.1.0->spacy) (0.21.1)\n",
      "Requirement already satisfied: smart-open<8.0.0,>=5.2.1 in /opt/conda/lib/python3.11/site-packages (from weasel<0.5.0,>=0.1.0->spacy) (7.1.0)\n",
      "Requirement already satisfied: wrapt in /opt/conda/lib/python3.11/site-packages (from smart-open<8.0.0,>=5.2.1->weasel<0.5.0,>=0.1.0->spacy) (1.17.2)\n",
      "Requirement already satisfied: marisa-trie>=1.1.0 in /opt/conda/lib/python3.11/site-packages (from language-data>=1.2->langcodes<4.0.0,>=3.2.0->spacy) (1.2.1)\n",
      "Requirement already satisfied: markdown-it-py>=2.2.0 in /opt/conda/lib/python3.11/site-packages (from rich>=10.11.0->typer<1.0.0,>=0.3.0->spacy) (3.0.0)\n",
      "Requirement already satisfied: pygments<3.0.0,>=2.13.0 in /opt/conda/lib/python3.11/site-packages (from rich>=10.11.0->typer<1.0.0,>=0.3.0->spacy) (2.19.1)\n",
      "Requirement already satisfied: mdurl~=0.1 in /opt/conda/lib/python3.11/site-packages (from markdown-it-py>=2.2.0->rich>=10.11.0->typer<1.0.0,>=0.3.0->spacy) (0.1.2)\n",
      "Requirement already satisfied: MarkupSafe>=2.0 in /opt/conda/lib/python3.11/site-packages (from jinja2->spacy) (3.0.2)\n",
      "\u001b[33mWARNING: Running pip as the 'root' user can result in broken permissions and conflicting behaviour with the system package manager, possibly rendering your system unusable. It is recommended to use a virtual environment instead: https://pip.pypa.io/warnings/venv. Use the --root-user-action option if you know what you are doing and want to suppress this warning.\u001b[0m\u001b[33m\n",
      "\u001b[0mRequirement already satisfied: faiss-cpu in /opt/conda/lib/python3.11/site-packages (1.11.0)\n",
      "Requirement already satisfied: numpy<3.0,>=1.25.0 in /opt/conda/lib/python3.11/site-packages (from faiss-cpu) (2.2.6)\n",
      "Requirement already satisfied: packaging in /opt/conda/lib/python3.11/site-packages (from faiss-cpu) (24.2)\n",
      "\u001b[33mWARNING: Running pip as the 'root' user can result in broken permissions and conflicting behaviour with the system package manager, possibly rendering your system unusable. It is recommended to use a virtual environment instead: https://pip.pypa.io/warnings/venv. Use the --root-user-action option if you know what you are doing and want to suppress this warning.\u001b[0m\u001b[33m\n",
      "\u001b[0mRequirement already satisfied: langchain in /opt/conda/lib/python3.11/site-packages (0.3.26)\n",
      "Requirement already satisfied: langchain-core<1.0.0,>=0.3.66 in /opt/conda/lib/python3.11/site-packages (from langchain) (0.3.66)\n",
      "Requirement already satisfied: langchain-text-splitters<1.0.0,>=0.3.8 in /opt/conda/lib/python3.11/site-packages (from langchain) (0.3.8)\n",
      "Requirement already satisfied: langsmith>=0.1.17 in /opt/conda/lib/python3.11/site-packages (from langchain) (0.4.4)\n",
      "Requirement already satisfied: pydantic<3.0.0,>=2.7.4 in /opt/conda/lib/python3.11/site-packages (from langchain) (2.11.7)\n",
      "Requirement already satisfied: SQLAlchemy<3,>=1.4 in /opt/conda/lib/python3.11/site-packages (from langchain) (2.0.41)\n",
      "Requirement already satisfied: requests<3,>=2 in /opt/conda/lib/python3.11/site-packages (from langchain) (2.32.3)\n",
      "Requirement already satisfied: PyYAML>=5.3 in /opt/conda/lib/python3.11/site-packages (from langchain) (6.0.2)\n",
      "Requirement already satisfied: tenacity!=8.4.0,<10.0.0,>=8.1.0 in /opt/conda/lib/python3.11/site-packages (from langchain-core<1.0.0,>=0.3.66->langchain) (9.1.2)\n",
      "Requirement already satisfied: jsonpatch<2.0,>=1.33 in /opt/conda/lib/python3.11/site-packages (from langchain-core<1.0.0,>=0.3.66->langchain) (1.33)\n",
      "Requirement already satisfied: packaging<25,>=23.2 in /opt/conda/lib/python3.11/site-packages (from langchain-core<1.0.0,>=0.3.66->langchain) (24.2)\n",
      "Requirement already satisfied: typing-extensions>=4.7 in /opt/conda/lib/python3.11/site-packages (from langchain-core<1.0.0,>=0.3.66->langchain) (4.14.0)\n",
      "Requirement already satisfied: jsonpointer>=1.9 in /opt/conda/lib/python3.11/site-packages (from jsonpatch<2.0,>=1.33->langchain-core<1.0.0,>=0.3.66->langchain) (3.0.0)\n",
      "Requirement already satisfied: annotated-types>=0.6.0 in /opt/conda/lib/python3.11/site-packages (from pydantic<3.0.0,>=2.7.4->langchain) (0.7.0)\n",
      "Requirement already satisfied: pydantic-core==2.33.2 in /opt/conda/lib/python3.11/site-packages (from pydantic<3.0.0,>=2.7.4->langchain) (2.33.2)\n",
      "Requirement already satisfied: typing-inspection>=0.4.0 in /opt/conda/lib/python3.11/site-packages (from pydantic<3.0.0,>=2.7.4->langchain) (0.4.1)\n",
      "Requirement already satisfied: charset_normalizer<4,>=2 in /opt/conda/lib/python3.11/site-packages (from requests<3,>=2->langchain) (3.4.2)\n",
      "Requirement already satisfied: idna<4,>=2.5 in /opt/conda/lib/python3.11/site-packages (from requests<3,>=2->langchain) (3.10)\n",
      "Requirement already satisfied: urllib3<3,>=1.21.1 in /opt/conda/lib/python3.11/site-packages (from requests<3,>=2->langchain) (2.4.0)\n",
      "Requirement already satisfied: certifi>=2017.4.17 in /opt/conda/lib/python3.11/site-packages (from requests<3,>=2->langchain) (2025.4.26)\n",
      "Requirement already satisfied: greenlet>=1 in /opt/conda/lib/python3.11/site-packages (from SQLAlchemy<3,>=1.4->langchain) (3.2.3)\n",
      "Requirement already satisfied: httpx<1,>=0.23.0 in /opt/conda/lib/python3.11/site-packages (from langsmith>=0.1.17->langchain) (0.28.1)\n",
      "Requirement already satisfied: orjson<4.0.0,>=3.9.14 in /opt/conda/lib/python3.11/site-packages (from langsmith>=0.1.17->langchain) (3.10.18)\n",
      "Requirement already satisfied: requests-toolbelt<2.0.0,>=1.0.0 in /opt/conda/lib/python3.11/site-packages (from langsmith>=0.1.17->langchain) (1.0.0)\n",
      "Requirement already satisfied: zstandard<0.24.0,>=0.23.0 in /opt/conda/lib/python3.11/site-packages (from langsmith>=0.1.17->langchain) (0.23.0)\n",
      "Requirement already satisfied: anyio in /opt/conda/lib/python3.11/site-packages (from httpx<1,>=0.23.0->langsmith>=0.1.17->langchain) (4.9.0)\n",
      "Requirement already satisfied: httpcore==1.* in /opt/conda/lib/python3.11/site-packages (from httpx<1,>=0.23.0->langsmith>=0.1.17->langchain) (1.0.9)\n",
      "Requirement already satisfied: h11>=0.16 in /opt/conda/lib/python3.11/site-packages (from httpcore==1.*->httpx<1,>=0.23.0->langsmith>=0.1.17->langchain) (0.16.0)\n",
      "Requirement already satisfied: sniffio>=1.1 in /opt/conda/lib/python3.11/site-packages (from anyio->httpx<1,>=0.23.0->langsmith>=0.1.17->langchain) (1.3.1)\n",
      "\u001b[33mWARNING: Running pip as the 'root' user can result in broken permissions and conflicting behaviour with the system package manager, possibly rendering your system unusable. It is recommended to use a virtual environment instead: https://pip.pypa.io/warnings/venv. Use the --root-user-action option if you know what you are doing and want to suppress this warning.\u001b[0m\u001b[33m\n",
      "\u001b[0mRequirement already satisfied: langchain-openai in /opt/conda/lib/python3.11/site-packages (0.3.27)\n",
      "Requirement already satisfied: langchain-core<1.0.0,>=0.3.66 in /opt/conda/lib/python3.11/site-packages (from langchain-openai) (0.3.66)\n",
      "Requirement already satisfied: openai<2.0.0,>=1.86.0 in /opt/conda/lib/python3.11/site-packages (from langchain-openai) (1.93.0)\n",
      "Requirement already satisfied: tiktoken<1,>=0.7 in /opt/conda/lib/python3.11/site-packages (from langchain-openai) (0.9.0)\n",
      "Requirement already satisfied: langsmith>=0.3.45 in /opt/conda/lib/python3.11/site-packages (from langchain-core<1.0.0,>=0.3.66->langchain-openai) (0.4.4)\n",
      "Requirement already satisfied: tenacity!=8.4.0,<10.0.0,>=8.1.0 in /opt/conda/lib/python3.11/site-packages (from langchain-core<1.0.0,>=0.3.66->langchain-openai) (9.1.2)\n",
      "Requirement already satisfied: jsonpatch<2.0,>=1.33 in /opt/conda/lib/python3.11/site-packages (from langchain-core<1.0.0,>=0.3.66->langchain-openai) (1.33)\n",
      "Requirement already satisfied: PyYAML>=5.3 in /opt/conda/lib/python3.11/site-packages (from langchain-core<1.0.0,>=0.3.66->langchain-openai) (6.0.2)\n",
      "Requirement already satisfied: packaging<25,>=23.2 in /opt/conda/lib/python3.11/site-packages (from langchain-core<1.0.0,>=0.3.66->langchain-openai) (24.2)\n",
      "Requirement already satisfied: typing-extensions>=4.7 in /opt/conda/lib/python3.11/site-packages (from langchain-core<1.0.0,>=0.3.66->langchain-openai) (4.14.0)\n",
      "Requirement already satisfied: pydantic>=2.7.4 in /opt/conda/lib/python3.11/site-packages (from langchain-core<1.0.0,>=0.3.66->langchain-openai) (2.11.7)\n",
      "Requirement already satisfied: jsonpointer>=1.9 in /opt/conda/lib/python3.11/site-packages (from jsonpatch<2.0,>=1.33->langchain-core<1.0.0,>=0.3.66->langchain-openai) (3.0.0)\n",
      "Requirement already satisfied: anyio<5,>=3.5.0 in /opt/conda/lib/python3.11/site-packages (from openai<2.0.0,>=1.86.0->langchain-openai) (4.9.0)\n",
      "Requirement already satisfied: distro<2,>=1.7.0 in /opt/conda/lib/python3.11/site-packages (from openai<2.0.0,>=1.86.0->langchain-openai) (1.9.0)\n",
      "Requirement already satisfied: httpx<1,>=0.23.0 in /opt/conda/lib/python3.11/site-packages (from openai<2.0.0,>=1.86.0->langchain-openai) (0.28.1)\n",
      "Requirement already satisfied: jiter<1,>=0.4.0 in /opt/conda/lib/python3.11/site-packages (from openai<2.0.0,>=1.86.0->langchain-openai) (0.10.0)\n",
      "Requirement already satisfied: sniffio in /opt/conda/lib/python3.11/site-packages (from openai<2.0.0,>=1.86.0->langchain-openai) (1.3.1)\n",
      "Requirement already satisfied: tqdm>4 in /opt/conda/lib/python3.11/site-packages (from openai<2.0.0,>=1.86.0->langchain-openai) (4.67.1)\n",
      "Requirement already satisfied: idna>=2.8 in /opt/conda/lib/python3.11/site-packages (from anyio<5,>=3.5.0->openai<2.0.0,>=1.86.0->langchain-openai) (3.10)\n",
      "Requirement already satisfied: certifi in /opt/conda/lib/python3.11/site-packages (from httpx<1,>=0.23.0->openai<2.0.0,>=1.86.0->langchain-openai) (2025.4.26)\n",
      "Requirement already satisfied: httpcore==1.* in /opt/conda/lib/python3.11/site-packages (from httpx<1,>=0.23.0->openai<2.0.0,>=1.86.0->langchain-openai) (1.0.9)\n",
      "Requirement already satisfied: h11>=0.16 in /opt/conda/lib/python3.11/site-packages (from httpcore==1.*->httpx<1,>=0.23.0->openai<2.0.0,>=1.86.0->langchain-openai) (0.16.0)\n",
      "Requirement already satisfied: annotated-types>=0.6.0 in /opt/conda/lib/python3.11/site-packages (from pydantic>=2.7.4->langchain-core<1.0.0,>=0.3.66->langchain-openai) (0.7.0)\n",
      "Requirement already satisfied: pydantic-core==2.33.2 in /opt/conda/lib/python3.11/site-packages (from pydantic>=2.7.4->langchain-core<1.0.0,>=0.3.66->langchain-openai) (2.33.2)\n",
      "Requirement already satisfied: typing-inspection>=0.4.0 in /opt/conda/lib/python3.11/site-packages (from pydantic>=2.7.4->langchain-core<1.0.0,>=0.3.66->langchain-openai) (0.4.1)\n",
      "Requirement already satisfied: regex>=2022.1.18 in /opt/conda/lib/python3.11/site-packages (from tiktoken<1,>=0.7->langchain-openai) (2024.11.6)\n",
      "Requirement already satisfied: requests>=2.26.0 in /opt/conda/lib/python3.11/site-packages (from tiktoken<1,>=0.7->langchain-openai) (2.32.3)\n",
      "Requirement already satisfied: orjson<4.0.0,>=3.9.14 in /opt/conda/lib/python3.11/site-packages (from langsmith>=0.3.45->langchain-core<1.0.0,>=0.3.66->langchain-openai) (3.10.18)\n",
      "Requirement already satisfied: requests-toolbelt<2.0.0,>=1.0.0 in /opt/conda/lib/python3.11/site-packages (from langsmith>=0.3.45->langchain-core<1.0.0,>=0.3.66->langchain-openai) (1.0.0)\n",
      "Requirement already satisfied: zstandard<0.24.0,>=0.23.0 in /opt/conda/lib/python3.11/site-packages (from langsmith>=0.3.45->langchain-core<1.0.0,>=0.3.66->langchain-openai) (0.23.0)\n",
      "Requirement already satisfied: charset_normalizer<4,>=2 in /opt/conda/lib/python3.11/site-packages (from requests>=2.26.0->tiktoken<1,>=0.7->langchain-openai) (3.4.2)\n",
      "Requirement already satisfied: urllib3<3,>=1.21.1 in /opt/conda/lib/python3.11/site-packages (from requests>=2.26.0->tiktoken<1,>=0.7->langchain-openai) (2.4.0)\n",
      "\u001b[33mWARNING: Running pip as the 'root' user can result in broken permissions and conflicting behaviour with the system package manager, possibly rendering your system unusable. It is recommended to use a virtual environment instead: https://pip.pypa.io/warnings/venv. Use the --root-user-action option if you know what you are doing and want to suppress this warning.\u001b[0m\u001b[33m\n",
      "\u001b[0mRequirement already satisfied: langchain-community in /opt/conda/lib/python3.11/site-packages (0.3.26)\n",
      "Requirement already satisfied: langchain-core<1.0.0,>=0.3.66 in /opt/conda/lib/python3.11/site-packages (from langchain-community) (0.3.66)\n",
      "Requirement already satisfied: langchain<1.0.0,>=0.3.26 in /opt/conda/lib/python3.11/site-packages (from langchain-community) (0.3.26)\n",
      "Requirement already satisfied: SQLAlchemy<3,>=1.4 in /opt/conda/lib/python3.11/site-packages (from langchain-community) (2.0.41)\n",
      "Requirement already satisfied: requests<3,>=2 in /opt/conda/lib/python3.11/site-packages (from langchain-community) (2.32.3)\n",
      "Requirement already satisfied: PyYAML>=5.3 in /opt/conda/lib/python3.11/site-packages (from langchain-community) (6.0.2)\n",
      "Requirement already satisfied: aiohttp<4.0.0,>=3.8.3 in /opt/conda/lib/python3.11/site-packages (from langchain-community) (3.12.13)\n",
      "Requirement already satisfied: tenacity!=8.4.0,<10,>=8.1.0 in /opt/conda/lib/python3.11/site-packages (from langchain-community) (9.1.2)\n",
      "Requirement already satisfied: dataclasses-json<0.7,>=0.5.7 in /opt/conda/lib/python3.11/site-packages (from langchain-community) (0.6.7)\n",
      "Requirement already satisfied: pydantic-settings<3.0.0,>=2.4.0 in /opt/conda/lib/python3.11/site-packages (from langchain-community) (2.10.1)\n",
      "Requirement already satisfied: langsmith>=0.1.125 in /opt/conda/lib/python3.11/site-packages (from langchain-community) (0.4.4)\n",
      "Requirement already satisfied: httpx-sse<1.0.0,>=0.4.0 in /opt/conda/lib/python3.11/site-packages (from langchain-community) (0.4.1)\n",
      "Requirement already satisfied: numpy>=1.26.2 in /opt/conda/lib/python3.11/site-packages (from langchain-community) (2.2.6)\n",
      "Requirement already satisfied: aiohappyeyeballs>=2.5.0 in /opt/conda/lib/python3.11/site-packages (from aiohttp<4.0.0,>=3.8.3->langchain-community) (2.6.1)\n",
      "Requirement already satisfied: aiosignal>=1.1.2 in /opt/conda/lib/python3.11/site-packages (from aiohttp<4.0.0,>=3.8.3->langchain-community) (1.3.2)\n",
      "Requirement already satisfied: attrs>=17.3.0 in /opt/conda/lib/python3.11/site-packages (from aiohttp<4.0.0,>=3.8.3->langchain-community) (25.3.0)\n",
      "Requirement already satisfied: frozenlist>=1.1.1 in /opt/conda/lib/python3.11/site-packages (from aiohttp<4.0.0,>=3.8.3->langchain-community) (1.7.0)\n",
      "Requirement already satisfied: multidict<7.0,>=4.5 in /opt/conda/lib/python3.11/site-packages (from aiohttp<4.0.0,>=3.8.3->langchain-community) (6.6.2)\n",
      "Requirement already satisfied: propcache>=0.2.0 in /opt/conda/lib/python3.11/site-packages (from aiohttp<4.0.0,>=3.8.3->langchain-community) (0.3.2)\n",
      "Requirement already satisfied: yarl<2.0,>=1.17.0 in /opt/conda/lib/python3.11/site-packages (from aiohttp<4.0.0,>=3.8.3->langchain-community) (1.20.1)\n",
      "Requirement already satisfied: marshmallow<4.0.0,>=3.18.0 in /opt/conda/lib/python3.11/site-packages (from dataclasses-json<0.7,>=0.5.7->langchain-community) (3.26.1)\n",
      "Requirement already satisfied: typing-inspect<1,>=0.4.0 in /opt/conda/lib/python3.11/site-packages (from dataclasses-json<0.7,>=0.5.7->langchain-community) (0.9.0)\n",
      "Requirement already satisfied: langchain-text-splitters<1.0.0,>=0.3.8 in /opt/conda/lib/python3.11/site-packages (from langchain<1.0.0,>=0.3.26->langchain-community) (0.3.8)\n",
      "Requirement already satisfied: pydantic<3.0.0,>=2.7.4 in /opt/conda/lib/python3.11/site-packages (from langchain<1.0.0,>=0.3.26->langchain-community) (2.11.7)\n",
      "Requirement already satisfied: jsonpatch<2.0,>=1.33 in /opt/conda/lib/python3.11/site-packages (from langchain-core<1.0.0,>=0.3.66->langchain-community) (1.33)\n",
      "Requirement already satisfied: packaging<25,>=23.2 in /opt/conda/lib/python3.11/site-packages (from langchain-core<1.0.0,>=0.3.66->langchain-community) (24.2)\n",
      "Requirement already satisfied: typing-extensions>=4.7 in /opt/conda/lib/python3.11/site-packages (from langchain-core<1.0.0,>=0.3.66->langchain-community) (4.14.0)\n",
      "Requirement already satisfied: jsonpointer>=1.9 in /opt/conda/lib/python3.11/site-packages (from jsonpatch<2.0,>=1.33->langchain-core<1.0.0,>=0.3.66->langchain-community) (3.0.0)\n",
      "Requirement already satisfied: annotated-types>=0.6.0 in /opt/conda/lib/python3.11/site-packages (from pydantic<3.0.0,>=2.7.4->langchain<1.0.0,>=0.3.26->langchain-community) (0.7.0)\n",
      "Requirement already satisfied: pydantic-core==2.33.2 in /opt/conda/lib/python3.11/site-packages (from pydantic<3.0.0,>=2.7.4->langchain<1.0.0,>=0.3.26->langchain-community) (2.33.2)\n",
      "Requirement already satisfied: typing-inspection>=0.4.0 in /opt/conda/lib/python3.11/site-packages (from pydantic<3.0.0,>=2.7.4->langchain<1.0.0,>=0.3.26->langchain-community) (0.4.1)\n",
      "Requirement already satisfied: python-dotenv>=0.21.0 in /opt/conda/lib/python3.11/site-packages (from pydantic-settings<3.0.0,>=2.4.0->langchain-community) (1.1.1)\n",
      "Requirement already satisfied: charset_normalizer<4,>=2 in /opt/conda/lib/python3.11/site-packages (from requests<3,>=2->langchain-community) (3.4.2)\n",
      "Requirement already satisfied: idna<4,>=2.5 in /opt/conda/lib/python3.11/site-packages (from requests<3,>=2->langchain-community) (3.10)\n",
      "Requirement already satisfied: urllib3<3,>=1.21.1 in /opt/conda/lib/python3.11/site-packages (from requests<3,>=2->langchain-community) (2.4.0)\n",
      "Requirement already satisfied: certifi>=2017.4.17 in /opt/conda/lib/python3.11/site-packages (from requests<3,>=2->langchain-community) (2025.4.26)\n",
      "Requirement already satisfied: greenlet>=1 in /opt/conda/lib/python3.11/site-packages (from SQLAlchemy<3,>=1.4->langchain-community) (3.2.3)\n",
      "Requirement already satisfied: mypy-extensions>=0.3.0 in /opt/conda/lib/python3.11/site-packages (from typing-inspect<1,>=0.4.0->dataclasses-json<0.7,>=0.5.7->langchain-community) (1.1.0)\n",
      "Requirement already satisfied: httpx<1,>=0.23.0 in /opt/conda/lib/python3.11/site-packages (from langsmith>=0.1.125->langchain-community) (0.28.1)\n",
      "Requirement already satisfied: orjson<4.0.0,>=3.9.14 in /opt/conda/lib/python3.11/site-packages (from langsmith>=0.1.125->langchain-community) (3.10.18)\n",
      "Requirement already satisfied: requests-toolbelt<2.0.0,>=1.0.0 in /opt/conda/lib/python3.11/site-packages (from langsmith>=0.1.125->langchain-community) (1.0.0)\n",
      "Requirement already satisfied: zstandard<0.24.0,>=0.23.0 in /opt/conda/lib/python3.11/site-packages (from langsmith>=0.1.125->langchain-community) (0.23.0)\n",
      "Requirement already satisfied: anyio in /opt/conda/lib/python3.11/site-packages (from httpx<1,>=0.23.0->langsmith>=0.1.125->langchain-community) (4.9.0)\n",
      "Requirement already satisfied: httpcore==1.* in /opt/conda/lib/python3.11/site-packages (from httpx<1,>=0.23.0->langsmith>=0.1.125->langchain-community) (1.0.9)\n",
      "Requirement already satisfied: h11>=0.16 in /opt/conda/lib/python3.11/site-packages (from httpcore==1.*->httpx<1,>=0.23.0->langsmith>=0.1.125->langchain-community) (0.16.0)\n",
      "Requirement already satisfied: sniffio>=1.1 in /opt/conda/lib/python3.11/site-packages (from anyio->httpx<1,>=0.23.0->langsmith>=0.1.125->langchain-community) (1.3.1)\n",
      "\u001b[33mWARNING: Running pip as the 'root' user can result in broken permissions and conflicting behaviour with the system package manager, possibly rendering your system unusable. It is recommended to use a virtual environment instead: https://pip.pypa.io/warnings/venv. Use the --root-user-action option if you know what you are doing and want to suppress this warning.\u001b[0m\u001b[33m\n",
      "\u001b[0m"
     ]
    }
   ],
   "source": [
    "!pip install pypdf # pypdf\n",
    "!pip install spacy # spaCy\n",
    "!pip install faiss-cpu # Faiss CPU 버전\n",
    "# !pip install faiss-gpu # Faiss GPU 버전\n",
    "!pip install langchain # LangChain Official\n",
    "!pip install langchain-openai # LangChain Open-AI\n",
    "!pip install langchain-community # LangChain Community"
   ]
  },
  {
   "cell_type": "markdown",
   "id": "46cf997f-c512-4be7-b41d-4d00661f7ccb",
   "metadata": {},
   "source": [
    "## 1. 패키지 로드"
   ]
  },
  {
   "cell_type": "code",
   "execution_count": 2,
   "id": "f312ac42-2123-4fde-b692-85daf9d08660",
   "metadata": {},
   "outputs": [],
   "source": [
    "import os\n",
    "import faiss\n",
    "import getpass\n",
    "import numpy as np\n",
    "from langchain_openai import OpenAIEmbeddings\n",
    "from langchain.document_loaders import PyPDFLoader\n",
    "from langchain.text_splitter import SpacyTextSplitter"
   ]
  },
  {
   "cell_type": "markdown",
   "id": "a829f9b6-45fc-497b-8755-5ab3525f378b",
   "metadata": {},
   "source": [
    "## 2. OpenAI API Key 설정"
   ]
  },
  {
   "cell_type": "code",
   "execution_count": 3,
   "id": "2bb6d628-f74c-4fe5-a945-ba79f202ae3a",
   "metadata": {},
   "outputs": [
    {
     "name": "stdin",
     "output_type": "stream",
     "text": [
      "Enter API key for OpenAI:  ········\n"
     ]
    }
   ],
   "source": [
    "os.environ[\"OPENAI_API_KEY\"] = getpass.getpass(\"Enter API key for OpenAI: \")"
   ]
  },
  {
   "cell_type": "markdown",
   "id": "033a78a6-6a14-46f3-b784-5ec374001ad8",
   "metadata": {},
   "source": [
    "## 3. Embedding Model 로드\n",
    "| Model                   | ~ Pages per dollar | Performance on MTEB eval | Max input |\n",
    "|------------------------|--------------------|----------------------------|-----------|\n",
    "| text-embedding-3-small | 62,500             | 62.3%                      | 8192      |\n",
    "| text-embedding-3-large | 9,615              | 64.6%                      | 8192      |\n",
    "| text-embedding-ada-002 | 12,500             | 61.0%                      | 8192      |\n"
   ]
  },
  {
   "cell_type": "code",
   "execution_count": 4,
   "id": "69b1617f-d326-4ff9-9091-858ac3894bbf",
   "metadata": {},
   "outputs": [],
   "source": [
    "dims = 1024\n",
    "embedding_model = OpenAIEmbeddings(model=\"text-embedding-3-large\", dimensions=dims)"
   ]
  },
  {
   "cell_type": "markdown",
   "id": "9014982a-f00e-4ae3-a277-69e7d9a6205c",
   "metadata": {},
   "source": [
    "## 4. Text Splitter Model 로드\n",
    "**spaCy 한국어 지원 모델**\n",
    "| 모델 이름               | 크기   | 구성 요소                                                                                     | 벡터 사용       | 토크나이저           |\n",
    "|------------------------|--------|--------------------------------------------------------------------------------------------|------------------|----------------------|\n",
    "| ko_core_news_sm        | sm     | tok2vec, tagger, morphologizer, parser, trainable_lemmatizer, senter, ner                | 없음             | rule-based (기본) :contentReference[oaicite:1]{index=1} |\n",
    "| ko_core_news_md        | md     | tok2vec, tagger, morphologizer, parser, trainable_lemmatizer, senter, ner                | floret 벡터 (50k) | rule-based (기본) :contentReference[oaicite:2]{index=2} |\n",
    "| ko_core_news_lg        | lg     | tok2vec, tagger, morphologizer, parser, trainable_lemmatizer, senter, ner                | floret 벡터 (200k)| rule-based (기본) :contentReference[oaicite:3]{index=3} |\n",
    "| ko_core_news_trf       | trf    | transformer, tagger, parser, trainable_lemmatizer, senter, ner                           | transformer 기반 | rule-based (기본) :contentReference[oaicite:4]{index=4} |\n"
   ]
  },
  {
   "cell_type": "code",
   "execution_count": 5,
   "id": "97373b9d-23d9-40a6-b348-ff596127a7a0",
   "metadata": {
    "scrolled": true
   },
   "outputs": [
    {
     "name": "stdout",
     "output_type": "stream",
     "text": [
      "Collecting ko-core-news-lg==3.8.0\n",
      "  Downloading https://github.com/explosion/spacy-models/releases/download/ko_core_news_lg-3.8.0/ko_core_news_lg-3.8.0-py3-none-any.whl (230.9 MB)\n",
      "\u001b[2K     \u001b[38;2;114;156;31m━━━━━━━━━━━━━━━━━━━━━━━━━━━━━━━━━━━━━━\u001b[0m \u001b[32m230.9/230.9 MB\u001b[0m \u001b[31m29.6 MB/s\u001b[0m eta \u001b[36m0:00:00\u001b[0mm eta \u001b[36m0:00:01\u001b[0m0:01\u001b[0m:01\u001b[0m\n",
      "\u001b[?25h\u001b[33mWARNING: Running pip as the 'root' user can result in broken permissions and conflicting behaviour with the system package manager, possibly rendering your system unusable. It is recommended to use a virtual environment instead: https://pip.pypa.io/warnings/venv. Use the --root-user-action option if you know what you are doing and want to suppress this warning.\u001b[0m\u001b[33m\n",
      "\u001b[0m\u001b[38;5;2m✔ Download and installation successful\u001b[0m\n",
      "You can now load the package via spacy.load('ko_core_news_lg')\n"
     ]
    }
   ],
   "source": [
    "# spaCy Text Splitter 모델 다운로드\n",
    "# ko_core_news_lg -> 원하는 모델로 변경 가능\n",
    "!python -m spacy download ko_core_news_lg"
   ]
  },
  {
   "cell_type": "code",
   "execution_count": 6,
   "id": "3be3be72-320b-4288-a67f-c6081837beb4",
   "metadata": {},
   "outputs": [],
   "source": [
    "# spaCy Text Splitter 로드\n",
    "text_splitter_model = SpacyTextSplitter(\n",
    "    pipeline=\"ko_core_news_lg\",\n",
    "    chunk_size=300, # 최대 청크 크기\n",
    "    chunk_overlap=50 # 청크 간 중복 허용 크기\n",
    ")"
   ]
  },
  {
   "cell_type": "markdown",
   "id": "813212db-adf4-47cc-84f9-7c8bae498d6a",
   "metadata": {},
   "source": [
    "## 4. 데이터 로드"
   ]
  },
  {
   "cell_type": "code",
   "execution_count": 7,
   "id": "066aa1ae-ffef-45ab-8b33-77f1a62fa195",
   "metadata": {},
   "outputs": [
    {
     "data": {
      "text/plain": [
       "'인공지능은 인간의 사고 과정을 모방하여 문제를 해결하고, 학습하며, 추론할 수 있는 기술을 말한다. 특히 기계학습과 딥러닝 기술의 발전으로 인해 자연어 처리, 컴퓨터 비전, 음성 '"
      ]
     },
     "execution_count": 7,
     "metadata": {},
     "output_type": "execute_result"
    }
   ],
   "source": [
    "pdf_loader = PyPDFLoader(\"../../data/Advancements and Applications of Artificial Intelligence Technologies Use Cases and Ethical Challenges_ko.pdf\")\n",
    "pdf_docs = pdf_loader.load()\n",
    "pdf_docs[0].page_content[:100]"
   ]
  },
  {
   "cell_type": "markdown",
   "id": "52867dea-237b-4aa1-9300-38c3e58d643a",
   "metadata": {},
   "source": [
    "## 5. 청킹(Chunking)"
   ]
  },
  {
   "cell_type": "code",
   "execution_count": 8,
   "id": "c3ec194f-c2e4-4e59-83e1-f0fe30a6c654",
   "metadata": {},
   "outputs": [],
   "source": [
    "documents = []\n",
    "for i in range(len(pdf_docs)):\n",
    "    # 텍스트 데이터\n",
    "    content = pdf_docs[i].page_content\n",
    "\n",
    "    # 메타데이터\n",
    "    metadata = {\"pageNum\" : i+1, \"title\" : \"Advancements and Applications of Artificial Intelligence Technologies Use Cases and Ethical Challenges_ko.pdf\"}\n",
    "    \n",
    "    chunks = text_splitter_model.split_text(content)\n",
    "    for chunk in chunks:\n",
    "        documents.append(\n",
    "            {\"text\" : chunk, \"metadata\" : metadata}\n",
    "        )"
   ]
  },
  {
   "cell_type": "code",
   "execution_count": 9,
   "id": "be8e87a4-c8cf-46f4-a589-8be1f85c418b",
   "metadata": {},
   "outputs": [
    {
     "data": {
      "text/plain": [
       "[{'text': \"인공지능은 인간의 사고 과정을 모방하여 문제를 해결하고, 학습하며, 추론할 수 있는 기술을 말한다.\\n\\n특히 기계학습과 딥러닝 기술의 발전으로 인해 자연어 처리, 컴퓨터 비전, 음성 인식 등 다양한 분야에서 큰 성과를 거두고 있다.자연어 처리 분야에서는 대규모 언어 모델이 등장하며 기계 번역, 질의응답, 문서 요약 등에서 인간 수준에 근접한 성능을 보이고 있다.\\n\\n대표적인 모델로는 OpenAI의 GPT 시리즈, Google's BERT, Meta의 LLaMA 등이 있다.\",\n",
       "  'metadata': {'pageNum': 1,\n",
       "   'title': 'Advancements and Applications of Artificial Intelligence Technologies Use Cases and Ethical Challenges_ko.pdf'}},\n",
       " {'text': '이러한 모델들은 사전학습(pretraining)과 미세조정(fine-tuning) 과정을 통해 특정 작업에 최적화된다.컴퓨터 비전 분야에서는 CNN(합성곱 신경망) 구조를 기반으로 이미지 분류, 객체 탐지, 세그멘테이션 등의 작업이 자동화되고 있다.\\n\\n최근에는 Vision Transformer(ViT)와 같은 트랜스포머 기반 모델도 활발히 연구되고 있다.',\n",
       "  'metadata': {'pageNum': 1,\n",
       "   'title': 'Advancements and Applications of Artificial Intelligence Technologies Use Cases and Ethical Challenges_ko.pdf'}},\n",
       " {'text': '자율주행차, 의료 영상 분석, 보안 감시 시스템 등에 실질적으로 적용되고 있다.음성 인식 기술은 스마트폰의 음성 비서, 고객센터의 AI 상담원, 그리고 회의 녹취 자동화 등에 활용되고 있다.\\n\\n이 기술은 파형 데이터를 스펙트로그램으로 변환하고 이를 딥러닝 모델로 해석하는 방식으로 이루어진다.\\n\\nWhisper나 DeepSpeech 같은 오픈소스 프로젝트도 존재한다.이러한 기술들은 단독으로 사용되기보다는 종종 융합되어 멀티모달 AI로 발전하고 있다.',\n",
       "  'metadata': {'pageNum': 1,\n",
       "   'title': 'Advancements and Applications of Artificial Intelligence Technologies Use Cases and Ethical Challenges_ko.pdf'}},\n",
       " {'text': '예를 들어, 텍스트와 이미지를 동시에 처리하는 모델은 이미지 캡셔닝, 시각 질의응답(VQA), 문서 이해 등에 활용된다.\\n\\nCLIP, Flamingo, Kosmos 등의 모델이 대표적이다.한편, 이러한 인공지능 기술의 확산에 따라 윤리적 이슈와 프라이버시 보호 문제도 중요하게 대두되고 있다.\\n\\n알고리즘의 편향성, 투명성, 설명 가능성(XAI), 개인정보 보호 등은 앞으로 인공지능 시스템이 실생활에 널리 적용되기 위한 중요한 과제들이다.',\n",
       "  'metadata': {'pageNum': 1,\n",
       "   'title': 'Advancements and Applications of Artificial Intelligence Technologies Use Cases and Ethical Challenges_ko.pdf'}}]"
      ]
     },
     "execution_count": 9,
     "metadata": {},
     "output_type": "execute_result"
    }
   ],
   "source": [
    "documents"
   ]
  },
  {
   "cell_type": "markdown",
   "id": "5781477f-65ed-452c-88c9-82053779b29b",
   "metadata": {},
   "source": [
    "## 6. 텍스트 임베딩(Text Embedding)"
   ]
  },
  {
   "cell_type": "code",
   "execution_count": 10,
   "id": "e0d410c9-9a90-471f-af1c-36c904d59a72",
   "metadata": {},
   "outputs": [
    {
     "data": {
      "text/plain": [
       "array([ 0.0006396 ,  0.01123521, -0.03570067, -0.00485028, -0.00958749,\n",
       "        0.02888362,  0.00586396,  0.01158252,  0.0110979 , -0.03696069],\n",
       "      dtype=float32)"
      ]
     },
     "execution_count": 10,
     "metadata": {},
     "output_type": "execute_result"
    }
   ],
   "source": [
    "# 임베딩\n",
    "embeddings = embedding_model.embed_documents([doc[\"text\"] for doc in documents])\n",
    "\n",
    "# Numpy float32 변환 (Faiss 입력 형식)\n",
    "embeddings = np.array(embeddings).astype('float32')\n",
    "\n",
    "embeddings[0][:10]"
   ]
  },
  {
   "cell_type": "markdown",
   "id": "54aff2c3-12a1-4684-ac5b-beefa2c543cf",
   "metadata": {},
   "source": [
    "## 7. 벡터 데이터베이스(Vector DB)"
   ]
  },
  {
   "cell_type": "code",
   "execution_count": 11,
   "id": "78e1d693-c009-4564-a648-f6ac5a26d556",
   "metadata": {},
   "outputs": [],
   "source": [
    "# Faiss 인덱스 생성\n",
    "index = faiss.IndexFlatIP(dims)"
   ]
  },
  {
   "cell_type": "code",
   "execution_count": 12,
   "id": "2d390929-7193-4b06-9839-5d9d963b3c4f",
   "metadata": {},
   "outputs": [],
   "source": [
    "# 벡터 정규화\n",
    "faiss.normalize_L2(embeddings)\n",
    "index.add(embeddings)"
   ]
  },
  {
   "cell_type": "code",
   "execution_count": 13,
   "id": "a281d749-ad09-4505-a0d0-05268f70233f",
   "metadata": {},
   "outputs": [],
   "source": [
    "# 메타데이터 매핑\n",
    "metadatas = {i : doc for i, doc in enumerate(documents)}"
   ]
  },
  {
   "cell_type": "markdown",
   "id": "ce27c886-d844-40fd-b1fb-e271a23f4648",
   "metadata": {},
   "source": [
    "## 8. 시멘틱 검색"
   ]
  },
  {
   "cell_type": "code",
   "execution_count": 14,
   "id": "bcc85b00-72ee-4d5b-ac49-c6f414a199ce",
   "metadata": {},
   "outputs": [],
   "source": [
    "# 쿼리\n",
    "query = \"언어를 이해하는 인공지능 기술이란?\""
   ]
  },
  {
   "cell_type": "code",
   "execution_count": 15,
   "id": "04881006-d417-4f9f-adba-679f0a912de4",
   "metadata": {},
   "outputs": [],
   "source": [
    "# 쿼리 임베딩\n",
    "query_embedding = embedding_model.embed_documents([query])\n",
    "query_embedding = np.array(query_embedding).astype(\"float32\")"
   ]
  },
  {
   "cell_type": "code",
   "execution_count": 16,
   "id": "8c0874de-29b4-4b71-9f31-644a82b017b6",
   "metadata": {},
   "outputs": [],
   "source": [
    "# 벡터 정규화\n",
    "faiss.normalize_L2(query_embedding)"
   ]
  },
  {
   "cell_type": "code",
   "execution_count": 17,
   "id": "e31de7fb-a108-4d72-9102-0af07dee4aea",
   "metadata": {},
   "outputs": [],
   "source": [
    "# 유사한 벡터 검색 (상위 3개)\n",
    "D, I = index.search(query_embedding, k=3)"
   ]
  },
  {
   "cell_type": "code",
   "execution_count": 18,
   "id": "b55a558a-c234-469d-bd19-27fe4fb73cb0",
   "metadata": {},
   "outputs": [
    {
     "name": "stdout",
     "output_type": "stream",
     "text": [
      "검색 결과:\n",
      "1. 텍스트: 인공지능은 인간의 사고 과정을 모방하여 문제를 해결하고, 학습하며, 추론할 수 있는 기술을 말한다.\n",
      "\n",
      "특히 기계학습과 딥러닝 기술의 발전으로 인해 자연어 처리, 컴퓨터 비전, 음성 인식 등 다양한 분야에서 큰 성과를 거두고 있다.자연어 처리 분야에서는 대규모 언어 모델이 등장하며 기계 번역, 질의응답, 문서 요약 등에서 인간 수준에 근접한 성능을 보이고 있다.\n",
      "\n",
      "대표적인 모델로는 OpenAI의 GPT 시리즈, Google's BERT, Meta의 LLaMA 등이 있다. / 메타데이터: {'pageNum': 1, 'title': 'Advancements and Applications of Artificial Intelligence Technologies Use Cases and Ethical Challenges_ko.pdf'}\n",
      "==================================================\n",
      "2. 텍스트: 예를 들어, 텍스트와 이미지를 동시에 처리하는 모델은 이미지 캡셔닝, 시각 질의응답(VQA), 문서 이해 등에 활용된다.\n",
      "\n",
      "CLIP, Flamingo, Kosmos 등의 모델이 대표적이다.한편, 이러한 인공지능 기술의 확산에 따라 윤리적 이슈와 프라이버시 보호 문제도 중요하게 대두되고 있다.\n",
      "\n",
      "알고리즘의 편향성, 투명성, 설명 가능성(XAI), 개인정보 보호 등은 앞으로 인공지능 시스템이 실생활에 널리 적용되기 위한 중요한 과제들이다. / 메타데이터: {'pageNum': 1, 'title': 'Advancements and Applications of Artificial Intelligence Technologies Use Cases and Ethical Challenges_ko.pdf'}\n",
      "==================================================\n",
      "3. 텍스트: 자율주행차, 의료 영상 분석, 보안 감시 시스템 등에 실질적으로 적용되고 있다.음성 인식 기술은 스마트폰의 음성 비서, 고객센터의 AI 상담원, 그리고 회의 녹취 자동화 등에 활용되고 있다.\n",
      "\n",
      "이 기술은 파형 데이터를 스펙트로그램으로 변환하고 이를 딥러닝 모델로 해석하는 방식으로 이루어진다.\n",
      "\n",
      "Whisper나 DeepSpeech 같은 오픈소스 프로젝트도 존재한다.이러한 기술들은 단독으로 사용되기보다는 종종 융합되어 멀티모달 AI로 발전하고 있다. / 메타데이터: {'pageNum': 1, 'title': 'Advancements and Applications of Artificial Intelligence Technologies Use Cases and Ethical Challenges_ko.pdf'}\n",
      "==================================================\n"
     ]
    }
   ],
   "source": [
    "# 결과 출력\n",
    "print(\"검색 결과:\")\n",
    "for rank, idx in enumerate(I[0]):\n",
    "    result  = metadatas[idx]\n",
    "    print(f\"{rank+1}. 텍스트: {result['text']} / 메타데이터: {result['metadata']}\")\n",
    "    print(\"=\" * 50)"
   ]
  }
 ],
 "metadata": {
  "kernelspec": {
   "display_name": "Python 3 (ipykernel)",
   "language": "python",
   "name": "python3"
  },
  "language_info": {
   "codemirror_mode": {
    "name": "ipython",
    "version": 3
   },
   "file_extension": ".py",
   "mimetype": "text/x-python",
   "name": "python",
   "nbconvert_exporter": "python",
   "pygments_lexer": "ipython3",
   "version": "3.11.13"
  }
 },
 "nbformat": 4,
 "nbformat_minor": 5
}
