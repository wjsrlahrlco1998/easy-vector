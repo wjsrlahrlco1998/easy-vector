{
 "cells": [
  {
   "cell_type": "markdown",
   "id": "a2d78409-7c72-4807-a9a7-a679afeccc68",
   "metadata": {},
   "source": [
    "# Chatbot with HyDE"
   ]
  },
  {
   "cell_type": "markdown",
   "id": "1a76e667-bc34-4b6a-bbaf-5bb0b2f8e2d3",
   "metadata": {},
   "source": [
    "## 1. 패키지"
   ]
  },
  {
   "cell_type": "code",
   "execution_count": 22,
   "id": "689c7114-baf6-4176-9a24-d5972a3dd91f",
   "metadata": {},
   "outputs": [],
   "source": [
    "import os\n",
    "import re\n",
    "import glob\n",
    "import faiss\n",
    "import tiktoken\n",
    "import numpy as np\n",
    "import pandas as pd\n",
    "import matplotlib.pyplot as plt\n",
    "from tqdm.notebook import tqdm\n",
    "from operator import itemgetter\n",
    "from docling.datamodel.base_models import InputFormat\n",
    "from docling.datamodel.pipeline_options import PdfPipelineOptions\n",
    "from docling.document_converter import DocumentConverter, PdfFormatOption\n",
    "from langchain.document_loaders import PyPDFLoader\n",
    "from langchain_community.vectorstores import FAISS\n",
    "from langchain_community.docstore.in_memory import InMemoryDocstore\n",
    "from langchain.callbacks.tracers import ConsoleCallbackHandler\n",
    "from langchain.text_splitter import MarkdownHeaderTextSplitter, RecursiveCharacterTextSplitter\n",
    "from langchain_core.documents import Document\n",
    "from langchain_core.prompts import ChatPromptTemplate, SystemMessagePromptTemplate, HumanMessagePromptTemplate\n",
    "from langchain_core.output_parsers import StrOutputParser\n",
    "from langchain_core.runnables import RunnableLambda, RunnableParallel, RunnableMap\n",
    "from langchain_huggingface import ChatHuggingFace, HuggingFaceEndpoint, HuggingFaceEndpointEmbeddings"
   ]
  },
  {
   "cell_type": "markdown",
   "id": "d037b1df-4ac7-4a4c-9210-622e09150c93",
   "metadata": {},
   "source": [
    "## 2. 데이터"
   ]
  },
  {
   "cell_type": "code",
   "execution_count": 23,
   "id": "4ccdf9c9-6e24-4403-a27d-c476eda7727d",
   "metadata": {},
   "outputs": [],
   "source": [
    "def transform_markdown_headers(text: str) -> str:\n",
    "    \"\"\"\n",
    "    주어진 텍스트의 모든 마크다운 헤더를 아래의 형식으로 변환하는 함수\n",
    "        ## 1            -> ## 1\n",
    "        ## 1.1          -> ### 1.1\n",
    "        ## 1.1.1        -> #### 1.1.1\n",
    "        ## 1.1.1.1      -> ##### 1.1.1.1\n",
    "    \"\"\"\n",
    "    pattern = re.compile(r'^(##)\\s+(\\d+(?:\\.\\d+)*)(.*)$', re.MULTILINE)\n",
    "\n",
    "    def repl(match: re.Match) -> str:\n",
    "        nums = match.group(2)\n",
    "        rest = match.group(3)\n",
    "        new_level = 2 + nums.count('.')\n",
    "        \n",
    "        return f'{\"#\" * new_level} {nums}{rest}'\n",
    "\n",
    "    return pattern.sub(repl, text)"
   ]
  },
  {
   "cell_type": "code",
   "execution_count": 24,
   "id": "6679de01-c134-4c33-8d95-40ca8e756b97",
   "metadata": {},
   "outputs": [],
   "source": [
    "def transform_number_headers(text: str) -> str:\n",
    "    \"\"\"\n",
    "    주어진 텍스트의 모든 숫자형식 헤더를 아래의 형식으로 변환하는 함수\n",
    "    \"- 1.1\"       -> \"### 1.1\"\n",
    "    \"- 1.1.1\"     -> \"#### 1.1.1\"\n",
    "    \"- 1.1.1.1\"   -> \"##### 1.1.1.1\"\n",
    "    \"\"\"\n",
    "    pattern = re.compile(r'(?m)^\\-\\s+(\\d+(?:\\.\\d+)*)(.*)$')\n",
    "\n",
    "    def repl(match: re.Match) -> str:\n",
    "        nums = match.group(1)\n",
    "        rest = match.group(2)\n",
    "        new_level = 2 + nums.count('.')\n",
    "        \n",
    "        return f'{\"#\" * new_level} {nums}{rest}'\n",
    "\n",
    "    return pattern.sub(repl, text)"
   ]
  },
  {
   "cell_type": "markdown",
   "id": "5a61f555-6a5e-46b0-adb8-02d232d00def",
   "metadata": {},
   "source": [
    "### 1) PDF 파일 로드 및 마크다운 변환"
   ]
  },
  {
   "cell_type": "code",
   "execution_count": null,
   "id": "2366719e-e2d1-4c54-9e6a-fa86eca4a038",
   "metadata": {},
   "outputs": [],
   "source": [
    "# PDF 파일경로\n",
    "filepath_list = [\n",
    "    \"[INPUT YOUR PDF FILEPATH]\"\n",
    "]"
   ]
  },
  {
   "cell_type": "code",
   "execution_count": 6,
   "id": "0cd5ae74-da40-4000-8eaa-6cc6e3b2a383",
   "metadata": {},
   "outputs": [
    {
     "data": {
      "application/vnd.jupyter.widget-view+json": {
       "model_id": "055248b000b1461fac94c79199b70a97",
       "version_major": 2,
       "version_minor": 0
      },
      "text/plain": [
       "  0%|          | 0/2 [00:00<?, ?it/s]"
      ]
     },
     "metadata": {},
     "output_type": "display_data"
    }
   ],
   "source": [
    "# PDF 로드 및 1차 변환 (\"#\" 형식 마크다운 헤더 추가)\n",
    "converted_pdf_list = []\n",
    "converter = DocumentConverter()\n",
    "for filepath in tqdm(filepath_list):\n",
    "    converted_pdf = converter.convert(filepath)\n",
    "    converted_pdf_list.append(converted_pdf)"
   ]
  },
  {
   "cell_type": "code",
   "execution_count": 7,
   "id": "16954ce1-ad7e-41fa-afd3-d7a9059383f4",
   "metadata": {},
   "outputs": [
    {
     "data": {
      "application/vnd.jupyter.widget-view+json": {
       "model_id": "ccbbf16d4bac48c39e09574fc7b739d6",
       "version_major": 2,
       "version_minor": 0
      },
      "text/plain": [
       "  0%|          | 0/2 [00:00<?, ?it/s]"
      ]
     },
     "metadata": {},
     "output_type": "display_data"
    }
   ],
   "source": [
    "# 마크다운 변환 텍스트 추출\n",
    "markdown_txt_list = []\n",
    "for converted_pdf in tqdm(converted_pdf_list):\n",
    "    markdown_txt_list.append(converted_pdf.document.export_to_markdown(image_placeholder=\"\"))"
   ]
  },
  {
   "cell_type": "code",
   "execution_count": null,
   "id": "be96faac-271d-4371-b993-22b819b0c756",
   "metadata": {},
   "outputs": [
    {
     "data": {
      "application/vnd.jupyter.widget-view+json": {
       "model_id": "2d7c408b22fc4223826fbbd7a675a052",
       "version_major": 2,
       "version_minor": 0
      },
      "text/plain": [
       "  0%|          | 0/2 [00:00<?, ?it/s]"
      ]
     },
     "metadata": {},
     "output_type": "display_data"
    }
   ],
   "source": [
    "# PDF 2차 변환 (\"#\" 형식 마크다운 헤더 추가 변환) // 각 문서별 특징에 맞게 변환 수행\n",
    "converted_markdown_txt_list = []\n",
    "for markdown_txt in tqdm(markdown_txt_list):\n",
    "    title = markdown_txt.split(\"\\n\\n\")[0].replace(\"##\", \"\").strip()\n",
    "    if title == \"[EXAMPLE TITLE]\":\n",
    "        content = \"\\n\\n\".join(markdown_txt.split(\"## EXAMPLE SPLIT TITLE\")[1:]).strip()\n",
    "        converted_content = transform_number_headers(transform_markdown_headers(content))\n",
    "    else:\n",
    "        content = markdown_txt.split(\"## EXAMPLE SPLIT TITLE\")[-1].strip()\n",
    "        converted_content = transform_markdown_headers(content)\n",
    "    converted_markdown_txt_list.append(f\"# {title}\\n\\n{converted_content}\")"
   ]
  },
  {
   "cell_type": "code",
   "execution_count": null,
   "id": "33eead13-e90b-4742-a0f5-d974a1c9ac21",
   "metadata": {},
   "outputs": [],
   "source": [
    "# 저장\n",
    "for i, converted_markdown_txt in enumerate(converted_markdown_txt_list):\n",
    "    with open(f\"[INPUT YOUR PATH]{i+1}.txt\", \"w\", encoding=\"utf-8\") as fp:\n",
    "        fp.write(converted_markdown_txt)"
   ]
  },
  {
   "cell_type": "markdown",
   "id": "6d4fd2fb-5867-4f1a-a450-ad70c4b0905c",
   "metadata": {},
   "source": [
    "### 2) 문서 청킹"
   ]
  },
  {
   "cell_type": "code",
   "execution_count": 10,
   "id": "40a39b4b-9402-48a2-bafd-2f8d534e138f",
   "metadata": {},
   "outputs": [
    {
     "data": {
      "application/vnd.jupyter.widget-view+json": {
       "model_id": "79534b6a8a8f43cba63625035b215bf6",
       "version_major": 2,
       "version_minor": 0
      },
      "text/plain": [
       "  0%|          | 0/2 [00:00<?, ?it/s]"
      ]
     },
     "metadata": {},
     "output_type": "display_data"
    }
   ],
   "source": [
    "# 변환된 데이터 불러오기\n",
    "converted_markdown_txt_list = []\n",
    "converted_markdown_txt_filepath_list = glob.glob(\"../../data/*.txt\")\n",
    "for converted_markdown_txt_filepath in tqdm(converted_markdown_txt_filepath_list):\n",
    "    with open(converted_markdown_txt_filepath, \"r\", encoding=\"utf-8\") as fp:\n",
    "        converted_markdown_txt_list.append(fp.read())"
   ]
  },
  {
   "cell_type": "code",
   "execution_count": 11,
   "id": "71ed1967-912d-480e-bc43-ec5ea62072ae",
   "metadata": {
    "scrolled": true
   },
   "outputs": [],
   "source": [
    "# Markdown Header Splitter 정의\n",
    "markdown_header_splitter = MarkdownHeaderTextSplitter(\n",
    "    headers_to_split_on=[\n",
    "        (\"#\", \"Header 1\"),\n",
    "        (\"##\", \"Header 2\"),\n",
    "        (\"###\", \"Header 3\"),\n",
    "        (\"####\", \"Header 4\"),\n",
    "        (\"#####\", \"Header 5\")\n",
    "    ]\n",
    ")"
   ]
  },
  {
   "cell_type": "code",
   "execution_count": 12,
   "id": "2de2fba4-d48a-487b-896f-8b5acfcd3854",
   "metadata": {
    "scrolled": true
   },
   "outputs": [
    {
     "data": {
      "application/vnd.jupyter.widget-view+json": {
       "model_id": "f230e59ae50848ac9c1798222304019c",
       "version_major": 2,
       "version_minor": 0
      },
      "text/plain": [
       "  0%|          | 0/2 [00:00<?, ?it/s]"
      ]
     },
     "metadata": {},
     "output_type": "display_data"
    }
   ],
   "source": [
    "# 문서 청킹 수행\n",
    "chunks = []\n",
    "for converted_markdown_txt in tqdm(converted_markdown_txt_list):\n",
    "    chunks += markdown_header_splitter.split_text(converted_markdown_txt)"
   ]
  },
  {
   "cell_type": "markdown",
   "id": "0bb4109c-d899-430a-8243-624cf1acecc1",
   "metadata": {},
   "source": [
    "### 3) 청크 사이즈 분포 시각화"
   ]
  },
  {
   "cell_type": "code",
   "execution_count": 13,
   "id": "24af768d-6076-4ba1-93d1-134cd495ef8c",
   "metadata": {},
   "outputs": [],
   "source": [
    "# 청크 사이즈 계산 : LLM이 인식하는 토큰 단위로 분할하여 계산\n",
    "tiktoken_encoder = tiktoken.get_encoding(\"cl100k_base\")\n",
    "chunk_sizes = [len(tiktoken_encoder.encode(chunk.page_content)) for chunk in chunks]"
   ]
  },
  {
   "cell_type": "code",
   "execution_count": 14,
   "id": "9fcb317e-9f8b-4772-8564-72f871d8192b",
   "metadata": {},
   "outputs": [
    {
     "data": {
      "image/png": "[encoded data removed]",
      "text/plain": [
       "<Figure size 800x500 with 1 Axes>"
      ]
     },
     "metadata": {},
     "output_type": "display_data"
    }
   ],
   "source": [
    "# 시각화\n",
    "plt.figure(figsize=(8, 5))\n",
    "plt.hist(chunk_sizes, bins=10, edgecolor=\"black\")\n",
    "plt.title('Chunk Size Distribution')\n",
    "plt.xlabel('Chunk Size')\n",
    "plt.ylabel('Frequency (Count)')\n",
    "plt.grid(True, linestyle='--', alpha=0.7)\n",
    "plt.show()"
   ]
  },
  {
   "cell_type": "markdown",
   "id": "0877b917-a03e-4196-b9d2-830230d0ada6",
   "metadata": {},
   "source": [
    "### 4) 청크 후처리"
   ]
  },
  {
   "cell_type": "code",
   "execution_count": 15,
   "id": "fda2f990-c577-4d1d-bb2f-337ab5b0819c",
   "metadata": {},
   "outputs": [],
   "source": [
    "# Chunk Size가 2,000 이상인 Chunk에 대해 후처리 수행: 더 작은 사이즈로 청킹\n",
    "# 규칙 기반 문장 단위 청킹을 위해 Recursive Character Text Splitter 사용\n",
    "recursive_character_text_splitter = RecursiveCharacterTextSplitter(\n",
    "    chunk_size=1000,\n",
    "    chunk_overlap=100,\n",
    "    separators=[\"\\n\\n\", \"\\n\", \".\", \" \"]\n",
    ")\n",
    "\n",
    "# 청킹 재수행\n",
    "new_chunks = []\n",
    "for chunk, chunk_size in zip(chunks, chunk_sizes):\n",
    "    if chunk_size < 1000:\n",
    "        new_chunks.append(chunk)\n",
    "    else:\n",
    "        splits = recursive_character_text_splitter.split_text(chunk.page_content)\n",
    "        for split in splits:\n",
    "            new_chunks.append(Document(\n",
    "                metadata=chunk.metadata,\n",
    "                page_content=split\n",
    "            ))"
   ]
  },
  {
   "cell_type": "markdown",
   "id": "2557f2d8-4abc-4b51-88bc-677e134ebbcb",
   "metadata": {},
   "source": [
    "### 5) 청크 사이즈 분포 시각화(후처리 적용)"
   ]
  },
  {
   "cell_type": "code",
   "execution_count": 16,
   "id": "1c1fa19f-fb4a-4bf3-8b39-6c029ada8b53",
   "metadata": {},
   "outputs": [],
   "source": [
    "# 청크 사이즈 계산 : LLM이 인식하는 토큰 단위로 분할하여 계산\n",
    "chunk_sizes = [len(tiktoken_encoder.encode(chunk.page_content)) for chunk in new_chunks]"
   ]
  },
  {
   "cell_type": "code",
   "execution_count": 17,
   "id": "b9f664ed-02b7-4cf2-92bc-364284377bdf",
   "metadata": {},
   "outputs": [
    {
     "data": {
      "image/png": "[encoded data removed]",
      "text/plain": [
       "<Figure size 800x500 with 1 Axes>"
      ]
     },
     "metadata": {},
     "output_type": "display_data"
    }
   ],
   "source": [
    "# 시각화\n",
    "plt.figure(figsize=(8, 5))\n",
    "plt.hist(chunk_sizes, bins=10, edgecolor=\"black\")\n",
    "plt.title('New Chunk Size Distribution')\n",
    "plt.xlabel('Chunk Size')\n",
    "plt.ylabel('Frequency (Count)')\n",
    "plt.grid(True, linestyle='--', alpha=0.7)\n",
    "plt.show()"
   ]
  },
  {
   "cell_type": "markdown",
   "id": "692e49e2-1292-4a0f-8873-9baf582efc50",
   "metadata": {},
   "source": [
    "## 3. 벡터 데이터베이스"
   ]
  },
  {
   "cell_type": "code",
   "execution_count": 26,
   "id": "101ed2a3-ed26-4e8a-b380-dd0c6d9ef0e7",
   "metadata": {},
   "outputs": [],
   "source": [
    "def get_batch(iterable, batch_size):\n",
    "    \"\"\"Batch Size대로 Batch를 만들어주는 함수\"\"\"\n",
    "    l = len(iterable)\n",
    "    for ndx in range(0, len(iterable), batch_size):\n",
    "        yield iterable[ndx:min(ndx + batch_size, l)]"
   ]
  },
  {
   "cell_type": "markdown",
   "id": "c727586d-d53d-4736-82c7-8941644c1654",
   "metadata": {},
   "source": [
    "### 1) 임베딩 모델 로드"
   ]
  },
  {
   "cell_type": "code",
   "execution_count": null,
   "id": "972dc3ae-9495-41ae-a157-cd7d554f745c",
   "metadata": {},
   "outputs": [],
   "source": [
    "# Qwen/Qwen3-Embedding-8B 모델 사용 (SOTA 모델) // Text Embedding Inference Server 사용\n",
    "embedding_model = HuggingFaceEndpointEmbeddings(\n",
    "    model=\"[INPUT YOUR ENDPOINT URL]\"\n",
    ")\n",
    "dimension_size = len(embedding_model.embed_query(\"query\"))"
   ]
  },
  {
   "cell_type": "markdown",
   "id": "dbe9fced-3164-4246-9ce1-d6ef76c5e3a3",
   "metadata": {},
   "source": [
    "### 2) 벡터DB - Standard Document"
   ]
  },
  {
   "cell_type": "code",
   "execution_count": null,
   "id": "19ba0581-9cf9-49d6-8092-53108aa45d90",
   "metadata": {},
   "outputs": [],
   "source": [
    "# FAISS DB 생성\n",
    "relevant_info_db = FAISS(\n",
    "    embedding_function=embedding_model,\n",
    "    index=faiss.IndexFlatL2(dimension_size),\n",
    "    docstore=InMemoryDocstore(),\n",
    "    index_to_docstore_id={}\n",
    ")"
   ]
  },
  {
   "cell_type": "code",
   "execution_count": null,
   "id": "48d4d00c-0f1d-4c7e-bcb3-1dee58d79cec",
   "metadata": {},
   "outputs": [],
   "source": [
    "# Max Batch 32 제약으로 인한 청크 chunk batch size 조정\n",
    "for batched_documents in get_batch(new_chunks, 32):\n",
    "    relevant_info_db.add_documents(batched_documents)"
   ]
  },
  {
   "cell_type": "markdown",
   "id": "aad48f64-a010-4514-8ab5-e5a938ccb050",
   "metadata": {},
   "source": [
    "### 3) 벡터DB - Relevant QA"
   ]
  },
  {
   "cell_type": "code",
   "execution_count": null,
   "id": "33f0c42a-442e-4d49-b654-9fedb30c9345",
   "metadata": {},
   "outputs": [],
   "source": [
    "# QA 데이터 로드\n",
    "df = pd.read_excel(\"[INPUT YOUR DATA PATH]\", engine=\"openpyxl\", header=0)"
   ]
  },
  {
   "cell_type": "code",
   "execution_count": null,
   "id": "0753d34a-c6ac-4bf3-8523-15624c36baa4",
   "metadata": {},
   "outputs": [],
   "source": [
    "# Documents 생성\n",
    "qa_documents = []\n",
    "for i in range(len(df)):\n",
    "    qa_documents.append(\n",
    "        Document(\n",
    "            page_content=df[\"Q\"][i],\n",
    "            metadata={\"title\": \"Relevant QA\", \"content\": df[\"A\"][i]}\n",
    "        )\n",
    "    )"
   ]
  },
  {
   "cell_type": "code",
   "execution_count": null,
   "id": "a00669d6-a4b4-41a0-aa6e-cbceedf19c50",
   "metadata": {},
   "outputs": [],
   "source": [
    "# FAISS DB 생성\n",
    "relevant_qa_db = FAISS(\n",
    "    embedding_function=embedding_model,\n",
    "    index=faiss.IndexFlatL2(dimension_size),\n",
    "    docstore=InMemoryDocstore(),\n",
    "    index_to_docstore_id={}\n",
    ")"
   ]
  },
  {
   "cell_type": "code",
   "execution_count": null,
   "id": "ab520914-7d01-4ea3-960e-dee3f555872c",
   "metadata": {},
   "outputs": [],
   "source": [
    "# Max Batch 32 제약으로 인한 청크 chunk batch size 조정\n",
    "for batched_documents in get_batch(qa_documents, 32):\n",
    "    relevant_qa_db.add_documents(batched_documents)"
   ]
  },
  {
   "cell_type": "markdown",
   "id": "5dbd9768-87cc-4462-bf40-f10707d79574",
   "metadata": {},
   "source": [
    "### 4) 벡터DB - Relevant PPT"
   ]
  },
  {
   "cell_type": "code",
   "execution_count": null,
   "id": "0100025d-c6a6-422b-a8d4-5d338e73667b",
   "metadata": {},
   "outputs": [],
   "source": [
    "# PPT 데이터 로드\n",
    "ppt_filepath_list = glob.glob(\"[INPUT YOUR PPT PATH]\")"
   ]
  },
  {
   "cell_type": "code",
   "execution_count": null,
   "id": "f5f30cde-0c75-4ac6-b15b-d2d5253d385d",
   "metadata": {
    "scrolled": true
   },
   "outputs": [],
   "source": [
    "# Document 생성\n",
    "ppt_documents = []\n",
    "for ppt_filepath in ppt_filepath_list:\n",
    "    ppt_documents.append(\n",
    "        Document(\n",
    "            page_content=os.path.basename(ppt_filepath_list[0]),\n",
    "            metadata={\"source\": ppt_filepath}\n",
    "        )\n",
    "    )"
   ]
  },
  {
   "cell_type": "code",
   "execution_count": null,
   "id": "d72ce285-cd88-4807-aba2-39588b0beb6c",
   "metadata": {},
   "outputs": [],
   "source": [
    "# FAISS DB 생성\n",
    "relevant_ppt_db = FAISS(\n",
    "    embedding_function=embedding_model,\n",
    "    index=faiss.IndexFlatL2(dimension_size),\n",
    "    docstore=InMemoryDocstore(),\n",
    "    index_to_docstore_id={}\n",
    ")"
   ]
  },
  {
   "cell_type": "code",
   "execution_count": null,
   "id": "b0373b06-92f8-46d0-90e9-3ba7ed963228",
   "metadata": {},
   "outputs": [],
   "source": [
    "# Max Batch 32 제약으로 인한 청크 chunk batch size 조정\n",
    "for batched_documents in get_batch(ppt_documents, 32):\n",
    "    relevant_ppt_db.add_documents(batched_documents)"
   ]
  },
  {
   "cell_type": "markdown",
   "id": "61aa78f0-1714-4124-a975-089e8be64f99",
   "metadata": {},
   "source": [
    "## 4. 챗봇"
   ]
  },
  {
   "cell_type": "markdown",
   "id": "1efbda7f-29b7-4669-b382-7c41bdd28b55",
   "metadata": {},
   "source": [
    "### 1) LLM 로드"
   ]
  },
  {
   "cell_type": "code",
   "execution_count": null,
   "id": "d0e185e5-0cb8-46e3-9077-4a9a32f5abab",
   "metadata": {},
   "outputs": [],
   "source": [
    "llm = ChatHuggingFace(\n",
    "    llm=HuggingFaceEndpoint(\n",
    "        endpoint_url=\"[INPUT YOUR ENDPOINT URL]\",\n",
    "        top_k=10,\n",
    "        top_p=0.95,\n",
    "        typical_p=0.95,\n",
    "        temperature=0.5,\n",
    "        max_new_tokens=32768,\n",
    "        repetition_penalty=1.05,\n",
    "        stop_sequences=[\"<|im_end|>\"],\n",
    "    )\n",
    ")"
   ]
  },
  {
   "cell_type": "markdown",
   "id": "bac12544-f3dd-494b-896f-6d11ff7ffec8",
   "metadata": {},
   "source": [
    "### 2) LLM Retrieval 정의"
   ]
  },
  {
   "cell_type": "code",
   "execution_count": null,
   "id": "f2fb4033-d22a-4563-80ea-8ece69fe05d4",
   "metadata": {},
   "outputs": [],
   "source": [
    "# Relevant Info Retrieval: Standard Document\n",
    "# 검색 개수 설정\n",
    "relevant_info_k = 3\n",
    "\n",
    "def get_relevant_information(vector: list) -> str:\n",
    "    \"\"\"사용자의 질문과 관련된 정보를 벡터DB에서 검색하여 반환하는 함수\"\"\"\n",
    "    # 검색\n",
    "    results = relevant_info_db.similarity_search_by_vector(embedding=vector, k=relevant_info_k)\n",
    "\n",
    "    # 결과 포맷팅\n",
    "    content_list = []\n",
    "    for result in results:\n",
    "        titles = []\n",
    "        for i, key in enumerate(result.metadata.keys()):\n",
    "            titles.append(f\"{(i+1) * '#'} {result.metadata[key]}\")\n",
    "        title = \"\\n\".join(titles)\n",
    "        content = result.page_content\n",
    "        content_list.append(f\"{title}\\n{content}\")\n",
    "    \n",
    "    return \"\\n\\n\".join(content_list)"
   ]
  },
  {
   "cell_type": "code",
   "execution_count": null,
   "id": "874da111-6dcb-46fb-b94b-eae7b9ab84b9",
   "metadata": {},
   "outputs": [],
   "source": [
    "# Relevant QA Retrieval: Relevant QA\n",
    "# 검색 개수 설정\n",
    "relevant_qa_k = 3\n",
    "\n",
    "def get_relevant_qa(message: str) -> str:\n",
    "    \"\"\"사용자의 질문과 관련된 가이드라인을 벡터DB에서 검색하여 반환하는 함수\"\"\"\n",
    "    # 검색\n",
    "    results = relevant_qa_db.similarity_search(query=message, k=relevant_qa_k)\n",
    "\n",
    "    # 포맷팅\n",
    "    content_list = []\n",
    "    for result in results:\n",
    "        title = result.metadata[\"title\"]\n",
    "        content = result.metadata[\"content\"]\n",
    "\n",
    "        content_list.append(f\"# {title}\\n{content}\")\n",
    "    \n",
    "    return \"\\n\\n\".join(content_list)"
   ]
  },
  {
   "cell_type": "code",
   "execution_count": null,
   "id": "b26745fb-0fcc-458f-83c1-42719f48233d",
   "metadata": {},
   "outputs": [],
   "source": [
    "# Relavant PPT Retrieval: Relevant PPT\n",
    "# 검색 개수 설정\n",
    "relevant_qa_k = 1\n",
    "\n",
    "def get_relevant_ppt(message: str) -> str:\n",
    "    \"\"\"사용자의 질문에 도움이되는 시험 방법 PPT를 반환하는 함수\"\"\"\n",
    "    # 검색\n",
    "    results = relevant_ppt_db.similarity_search(query=message, k=relevant_qa_k)\n",
    "\n",
    "    # 포맷팅\n",
    "    content_list = []\n",
    "    for result in results:\n",
    "        source = result.metadata[\"source\"]\n",
    "        content_list.append(f\"- {source}\")\n",
    "    \n",
    "    return \"\\n\".join(content_list)"
   ]
  },
  {
   "cell_type": "markdown",
   "id": "09339c85-d72d-4706-89ec-4742d67c3f89",
   "metadata": {},
   "source": [
    "### 3) Prompt Template 정의"
   ]
  },
  {
   "cell_type": "code",
   "execution_count": null,
   "id": "9fadb719-a19d-4fe4-8c7a-21fbd46042f7",
   "metadata": {},
   "outputs": [],
   "source": [
    "# Prompt Template - HyDE 1\n",
    "hyde_system_prompt_template_1 = \"\"\"다음 질문에 답하는 규격 설명문을 작성하라. 북미 전기 cooking range standard에 따라 작성하라.\n",
    "\n",
    "[작성 방식]\n",
    "- 정확한 수치, 크기, 재료, 설치 기준을 포함하라.\n",
    "- 간결하고 핵심 정보만 제공하라.\n",
    "- 불확실할 경우 \"일반적인 표준에 따르면\"으로 시작하라.\"\"\""
   ]
  },
  {
   "cell_type": "code",
   "execution_count": null,
   "id": "dbafd402-2c01-40c8-ad45-7628496b6e75",
   "metadata": {},
   "outputs": [],
   "source": [
    "# Prompt Template - HyDE 2\n",
    "hyde_system_prompt_template_2 = \"\"\"다음 질문에 대해 기술 사양서 형식으로 작성하라. 북미 전기 cooking range standard에 따라 작성하라.\n",
    "\n",
    "[작성 방식]\n",
    "- 항목별로 구분하여 작성하라.\n",
    "- 각 항목은 '항목명: 기준값 (단위)' 형태로 작성하라.\n",
    "- 필요한 경우 사용 환경, 주의사항, 허용 오차를 포함하라.\n",
    "- 영어로 작성하라.\"\"\""
   ]
  },
  {
   "cell_type": "code",
   "execution_count": null,
   "id": "63275bff-4cf8-4193-b1f8-fe137aa35f71",
   "metadata": {},
   "outputs": [],
   "source": [
    "# Prompt Template - HyDE 3\n",
    "hyde_system_prompt_template_3 = \"\"\"다음 질문에 대해 한국어로 FAQ 형식으로 작성하라. 북미 전기 cooking range standard 정보를 실제 고객에게 안내하듯 작성하라.\n",
    "\n",
    "[작성 방식]\n",
    "- \"Q: <질문>\"으로 시작하고, \"A:\"로 답하라.\n",
    "- 정확한 수치와 사용법, 주의사항을 포함하라.\n",
    "- 짧고 명확하게, 친절한 문체로 작성하라.\"\"\""
   ]
  },
  {
   "cell_type": "code",
   "execution_count": null,
   "id": "7428a23c-af48-4909-a3e9-40f6d47717fd",
   "metadata": {},
   "outputs": [],
   "source": [
    "hyde_system_prompt_templates = [hyde_system_prompt_template_1, hyde_system_prompt_template_2, hyde_system_prompt_template_3]"
   ]
  },
  {
   "cell_type": "code",
   "execution_count": null,
   "id": "55dcd725-a873-4084-b641-8d5b61971da2",
   "metadata": {},
   "outputs": [],
   "source": [
    "# Prompt Template - Query Rewriting\n",
    "rewriting_system_prompt_template = \"\"\"당신은 북미 전기 cooking range standard 시험 방법 가이드라인 PPT 작성 전문가입니다. 다음 질문을 참고하여 **영문 시험 방법 가이드라인 PPT 제목**을 작성하십시오.\n",
    "\n",
    "[작성 기준]\n",
    "- 결과는 반드시 **영문 제목**으로 작성하십시오.\n",
    "- 제목은 PPT 슬라이드 제목처럼 **간결하고 핵심 키워드 중심**으로 작성하십시오.\n",
    "- 첫 글자는 **대문자**, 제목 형식(Title Case)으로 작성하십시오.\n",
    "- 시험 방법, 측정 기준, 테스트 프로토콜 등 핵심 용어를 포함하십시오.\n",
    "- 설명 문장 없이 **짧고 전문적인 제목**만 작성하십시오.\"\"\""
   ]
  },
  {
   "cell_type": "code",
   "execution_count": null,
   "id": "1a16233e-29a1-4d6d-923d-c39d91008323",
   "metadata": {},
   "outputs": [],
   "source": [
    "# Prompt Template - Conversation\n",
    "conv_system_prompt_template = \"\"\"당신은 북미 전기 cooking range standard에 대한 전문 상담 AI입니다. 다음 지침에 따라 정확하고 간결하게 답변하십시오.\n",
    "\n",
    "[지시사항]\n",
    "1. 제공된 참고정보 및 가이드라인에서 사용자의 질문과 **직접적으로 관련 있는 정보만** 참고하십시오.\n",
    "2. **추측 또는 임의의 상상은 절대 하지 말고**, 참고정보에서 근거가 없는 정보는 제공하지 마십시오.\n",
    "3. 질문이 불명확하거나 참고정보에 해당 내용이 없을 경우, 다음과 같이 답변하십시오:\n",
    "    - \"해당 사항은 제공된 표준규격 정보에서 확인되지 않습니다. 추가 정보가 필요합니다.\"\n",
    "4. 답변은 **간결하고 논리적인 문장으로**, 필요한 경우 표 또는 목록으로 정리하십시오.\n",
    "5. 참고정보의 출처(예: '규격 제5조', '가이드라인 3.1절')를 명확히 명시하십시오.\n",
    "6. 참고정보 - 시험방법 파일은 반드시 최하단에 \"시험방법 가이드라인: [Electric Range] ....pptx\"\"로 명시하십시오.\n",
    "\n",
    "[추가지침]\n",
    "1. 답변은 고객 서비스 담당자 수준이 아닌 **제품 개발 전문가** 수준의 전문성을 유지하십시오.\n",
    "2. 불필요한 서론이나 인삿말은 생략하고, **핵심 답변**만 제공하십시오.\n",
    "\n",
    "[참고정보 - Info]\n",
    "{relevant_info}\n",
    "\n",
    "[참고정보 - QA]\n",
    "{relevant_qa}\n",
    "\n",
    "[참고정보 - 시험방법 파일]\n",
    "{relevant_ppt}\"\"\""
   ]
  },
  {
   "cell_type": "markdown",
   "id": "94e787df-7314-4c14-83c6-38359a218310",
   "metadata": {},
   "source": [
    "### 4) HyDE Chain 정의"
   ]
  },
  {
   "cell_type": "code",
   "execution_count": null,
   "id": "b42e79df-d21a-4d67-8e56-199b324d606a",
   "metadata": {},
   "outputs": [],
   "source": [
    "def format_hyde_prompt(x : dict) -> ChatPromptTemplate:\n",
    "    \"\"\"HyDE 프롬프트 템플릿에 대해 포맷팅하는 함수\"\"\"\n",
    "    i = x['i']\n",
    "    query = x['query']\n",
    "\n",
    "    hyde_system_message_template = hyde_system_prompt_templates[i]\n",
    "    \n",
    "    prompt = []\n",
    "\n",
    "    # System Prompt 추가\n",
    "    prompt.append(SystemMessagePromptTemplate.from_template(hyde_system_message_template))\n",
    "\n",
    "    # Human Prompt 추가\n",
    "    prompt.append(HumanMessagePromptTemplate.from_template(\"{query}\"))\n",
    "\n",
    "    # ChatPromptTemplate 생성\n",
    "    chat_prompt = ChatPromptTemplate.from_messages(prompt)\n",
    "\n",
    "    return chat_prompt.invoke(\n",
    "        {\n",
    "            \"query\" : x\n",
    "        }\n",
    "    )"
   ]
  },
  {
   "cell_type": "code",
   "execution_count": null,
   "id": "c0dbd88e-610d-47be-b0e3-603568054637",
   "metadata": {},
   "outputs": [],
   "source": [
    "def get_mean_hye(x : dict) -> list:\n",
    "    \"\"\"HyDE 프롬프트로 생성된 가상문서에 대한 평균 임베딩 벡터를 반환하는 함수\"\"\"\n",
    "    vectors = [embedding_model.embed_query(v) for k, v in x.items()]\n",
    "    mean_vector = [sum(x) / len(x) for x in zip(*vectors)]\n",
    "\n",
    "    return mean_vector"
   ]
  },
  {
   "cell_type": "code",
   "execution_count": null,
   "id": "f60fbb34-45f1-44a2-b3a1-ac9fff2999ec",
   "metadata": {},
   "outputs": [],
   "source": [
    "hyde_chain = RunnableParallel(\n",
    "    hyd_1=RunnableMap({\"query\" : itemgetter(\"query\"), \"i\" : RunnableLambda(lambda x : 0)}) | RunnableLambda(format_hyde_prompt) | llm | StrOutputParser(),\n",
    "    hyd_2=RunnableMap({\"query\" : itemgetter(\"query\"), \"i\" : RunnableLambda(lambda x : 1)}) | RunnableLambda(format_hyde_prompt) | llm | StrOutputParser(),\n",
    "    hyd_3=RunnableMap({\"query\" : itemgetter(\"query\"), \"i\" : RunnableLambda(lambda x : 2)}) | RunnableLambda(format_hyde_prompt) | llm | StrOutputParser()\n",
    ") | RunnableLambda(get_mean_hye)"
   ]
  },
  {
   "cell_type": "markdown",
   "id": "2b007edc-d114-475c-92e9-6c5a5f390517",
   "metadata": {},
   "source": [
    "### 5) Retrieval Info Chain 정의"
   ]
  },
  {
   "cell_type": "code",
   "execution_count": null,
   "id": "5b485bf8-aa83-42e1-8a68-8ce61949b65a",
   "metadata": {},
   "outputs": [],
   "source": [
    "retrieval_info_chain = hyde_chain | RunnableLambda(get_relevant_information)"
   ]
  },
  {
   "cell_type": "markdown",
   "id": "cdc8063b-dc32-436f-bf89-6daef6b1a0ac",
   "metadata": {},
   "source": [
    "### 6) Retrieval QA Chain 정의"
   ]
  },
  {
   "cell_type": "code",
   "execution_count": null,
   "id": "15c7ebfd-c02f-42b4-af2e-255f513ecef1",
   "metadata": {},
   "outputs": [],
   "source": [
    "retrieval_qa_chain = itemgetter(\"query\") | RunnableLambda(get_relevant_qa)"
   ]
  },
  {
   "cell_type": "markdown",
   "id": "e2bfaa52-c548-429d-8b65-ea810f1389b4",
   "metadata": {},
   "source": [
    "### 7) Rewriting Chain 정의"
   ]
  },
  {
   "cell_type": "code",
   "execution_count": null,
   "id": "390fef54-0e52-4e3b-924d-67c1e319dc6d",
   "metadata": {},
   "outputs": [],
   "source": [
    "def format_rewriting_prompt(x : str) -> ChatPromptTemplate:\n",
    "    \"\"\"Rewriting 프롬프트 템플릿에 대해 포맷팅하는 함수\"\"\"\n",
    "    prompt = []\n",
    "\n",
    "    # System Prompt 추가\n",
    "    prompt.append(SystemMessagePromptTemplate.from_template(rewriting_system_prompt_template))\n",
    "\n",
    "    # Human Prompt 추가\n",
    "    prompt.append(HumanMessagePromptTemplate.from_template(\"{query}\"))\n",
    "\n",
    "    # ChatPromptTemplate 생성\n",
    "    chat_prompt = ChatPromptTemplate.from_messages(prompt)\n",
    "\n",
    "    return chat_prompt.invoke(\n",
    "        {\n",
    "            \"query\" : x\n",
    "        }\n",
    "    )"
   ]
  },
  {
   "cell_type": "code",
   "execution_count": null,
   "id": "45cd6eb8-5508-4a37-9eb8-39eda3ff3c3a",
   "metadata": {},
   "outputs": [],
   "source": [
    "rewriting_chain = itemgetter(\"query\") | RunnableLambda(format_rewriting_prompt) | llm | StrOutputParser()"
   ]
  },
  {
   "cell_type": "markdown",
   "id": "90c67b33-2348-4898-ba91-b0a98722a81a",
   "metadata": {},
   "source": [
    "### 8) Retrieval PPT Chain 정의"
   ]
  },
  {
   "cell_type": "code",
   "execution_count": null,
   "id": "4ae19d65-e42d-4e03-9859-067559c34a51",
   "metadata": {},
   "outputs": [],
   "source": [
    "retrieval_ppt_chain = rewriting_chain | RunnableLambda(get_relevant_ppt)"
   ]
  },
  {
   "cell_type": "markdown",
   "id": "7d176fa7-bd9e-4d0c-b78a-ff4257167600",
   "metadata": {},
   "source": [
    "### 8) Conversation Chain 정의"
   ]
  },
  {
   "cell_type": "code",
   "execution_count": null,
   "id": "9c083e59-521f-4066-82e1-c84081a10933",
   "metadata": {},
   "outputs": [],
   "source": [
    "def format_conv_prompt(x : dict) -> ChatPromptTemplate:\n",
    "    \"\"\"Conversation 프롬프트 템플릿에 대해 포맷팅하는 함수\"\"\"\n",
    "    prompt = []\n",
    "\n",
    "    # System Prompt 추가\n",
    "    prompt.append(SystemMessagePromptTemplate.from_template(conv_system_prompt_template))\n",
    "\n",
    "    # Human Prompt 추가\n",
    "    prompt.append(HumanMessagePromptTemplate.from_template(\"{query}\"))\n",
    "\n",
    "    # ChatPromptTemplate 생성\n",
    "    chat_prompt = ChatPromptTemplate.from_messages(prompt)\n",
    "\n",
    "    return chat_prompt.invoke(\n",
    "        {\n",
    "            \"query\" : x[\"query\"],\n",
    "            \"relevant_info\" : x[\"relevant_info\"],\n",
    "            \"relevant_qa\" : x[\"relevant_qa\"],\n",
    "            \"relevant_ppt\" : x[\"relevant_ppt\"]\n",
    "        }\n",
    "    )"
   ]
  },
  {
   "cell_type": "code",
   "execution_count": null,
   "id": "89c63229-34c1-445b-b0e6-2d639f6e83a9",
   "metadata": {},
   "outputs": [],
   "source": [
    "conv_chain = RunnableParallel(\n",
    "    query=itemgetter(\"query\"),\n",
    "    relevant_info={\"query\" : itemgetter(\"query\")} | retrieval_info_chain,\n",
    "    relevant_qa={\"query\" : itemgetter(\"query\")} | retrieval_qa_chain,\n",
    "    relevant_ppt={\"query\" : itemgetter(\"query\")} | retrieval_ppt_chain\n",
    ") | RunnableLambda(format_conv_prompt) | llm | StrOutputParser()"
   ]
  },
  {
   "cell_type": "markdown",
   "id": "50094721-7c79-4f0f-9122-0a25cfd91345",
   "metadata": {},
   "source": [
    "## 5. 테스트"
   ]
  },
  {
   "cell_type": "code",
   "execution_count": null,
   "id": "3b1460ce-33c8-443b-aa86-d4032e6d7565",
   "metadata": {},
   "outputs": [],
   "source": [
    "is_stream = False # 스트리밍 출력 설정\n",
    "is_debug = False # 디버그 설정"
   ]
  },
  {
   "cell_type": "code",
   "execution_count": null,
   "id": "ffbaf02e-0b24-4e63-9acc-3d7aa1890c6f",
   "metadata": {},
   "outputs": [],
   "source": [
    "print(\"🤖 챗봇과 대화를 시작합니다. 종료하려면 '종료'를 입력하세요.\\n\")\n",
    "while True:\n",
    "    # 질문 입력\n",
    "    user_query = input(\"👤 사용자: \")\n",
    "\n",
    "    # 종료\n",
    "    if user_query.strip().lower() in [\"종료\"]:\n",
    "        print(\"\\n✅ 채팅을 종료합니다.\")\n",
    "        break\n",
    "\n",
    "    # 챗봇 출력\n",
    "    print(\"🤖 챗봇:\", end=\" \", flush=True)\n",
    "    \n",
    "    # 사용자 입력 포맷팅\n",
    "    user_input = {\"query\" : user_query}\n",
    "\n",
    "    # Debug 모드\n",
    "    if is_debug:\n",
    "        config = {\"callbacks\": [ConsoleCallbackHandler()]}\n",
    "    else:\n",
    "        config = {}\n",
    "\n",
    "    # Stream 모드\n",
    "    if is_stream:\n",
    "        for token in conv_chain.stream(user_input, config=config):\n",
    "            print(token, end=\"\", flush=True)\n",
    "    else:\n",
    "        full_response = conv_chain.invoke(user_input, config=config)\n",
    "        print(full_response)"
   ]
  }
 ],
 "metadata": {
  "kernelspec": {
   "display_name": "Python 3 (ipykernel)",
   "language": "python",
   "name": "python3"
  },
  "language_info": {
   "codemirror_mode": {
    "name": "ipython",
    "version": 3
   },
   "file_extension": ".py",
   "mimetype": "text/x-python",
   "name": "python",
   "nbconvert_exporter": "python",
   "pygments_lexer": "ipython3",
   "version": "3.11.13"
  }
 },
 "nbformat": 4,
 "nbformat_minor": 5
}
