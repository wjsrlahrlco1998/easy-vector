{
 "cells": [
  {
   "cell_type": "markdown",
   "id": "40421485-a15c-49b9-b589-77b640f34f94",
   "metadata": {},
   "source": [
    "# 챗봇-기본: 허깅페이스 TGI 서버 활용"
   ]
  },
  {
   "cell_type": "markdown",
   "id": "c197d309-2641-446c-aec3-d3ba131c9982",
   "metadata": {},
   "source": [
    "## 0. 라이브러리 설치"
   ]
  },
  {
   "cell_type": "code",
   "execution_count": 1,
   "id": "2ba68c44-48dd-409f-bc5f-9296b8267c29",
   "metadata": {
    "scrolled": true
   },
   "outputs": [
    {
     "name": "stdout",
     "output_type": "stream",
     "text": [
      "Requirement already satisfied: pypdf in /opt/conda/lib/python3.11/site-packages (5.7.0)\n",
      "\u001b[33mWARNING: Running pip as the 'root' user can result in broken permissions and conflicting behaviour with the system package manager, possibly rendering your system unusable. It is recommended to use a virtual environment instead: https://pip.pypa.io/warnings/venv. Use the --root-user-action option if you know what you are doing and want to suppress this warning.\u001b[0m\u001b[33m\n",
      "\u001b[0mRequirement already satisfied: spacy in /opt/conda/lib/python3.11/site-packages (3.8.7)\n",
      "Requirement already satisfied: spacy-legacy<3.1.0,>=3.0.11 in /opt/conda/lib/python3.11/site-packages (from spacy) (3.0.12)\n",
      "Requirement already satisfied: spacy-loggers<2.0.0,>=1.0.0 in /opt/conda/lib/python3.11/site-packages (from spacy) (1.0.5)\n",
      "Requirement already satisfied: murmurhash<1.1.0,>=0.28.0 in /opt/conda/lib/python3.11/site-packages (from spacy) (1.0.13)\n",
      "Requirement already satisfied: cymem<2.1.0,>=2.0.2 in /opt/conda/lib/python3.11/site-packages (from spacy) (2.0.11)\n",
      "Requirement already satisfied: preshed<3.1.0,>=3.0.2 in /opt/conda/lib/python3.11/site-packages (from spacy) (3.0.10)\n",
      "Requirement already satisfied: thinc<8.4.0,>=8.3.4 in /opt/conda/lib/python3.11/site-packages (from spacy) (8.3.6)\n",
      "Requirement already satisfied: wasabi<1.2.0,>=0.9.1 in /opt/conda/lib/python3.11/site-packages (from spacy) (1.1.3)\n",
      "Requirement already satisfied: srsly<3.0.0,>=2.4.3 in /opt/conda/lib/python3.11/site-packages (from spacy) (2.5.1)\n",
      "Requirement already satisfied: catalogue<2.1.0,>=2.0.6 in /opt/conda/lib/python3.11/site-packages (from spacy) (2.0.10)\n",
      "Requirement already satisfied: weasel<0.5.0,>=0.1.0 in /opt/conda/lib/python3.11/site-packages (from spacy) (0.4.1)\n",
      "Requirement already satisfied: typer<1.0.0,>=0.3.0 in /opt/conda/lib/python3.11/site-packages (from spacy) (0.16.0)\n",
      "Requirement already satisfied: tqdm<5.0.0,>=4.38.0 in /opt/conda/lib/python3.11/site-packages (from spacy) (4.67.1)\n",
      "Requirement already satisfied: numpy>=1.19.0 in /opt/conda/lib/python3.11/site-packages (from spacy) (2.2.6)\n",
      "Requirement already satisfied: requests<3.0.0,>=2.13.0 in /opt/conda/lib/python3.11/site-packages (from spacy) (2.32.3)\n",
      "Requirement already satisfied: pydantic!=1.8,!=1.8.1,<3.0.0,>=1.7.4 in /opt/conda/lib/python3.11/site-packages (from spacy) (2.11.7)\n",
      "Requirement already satisfied: jinja2 in /opt/conda/lib/python3.11/site-packages (from spacy) (3.1.6)\n",
      "Requirement already satisfied: setuptools in /opt/conda/lib/python3.11/site-packages (from spacy) (75.8.2)\n",
      "Requirement already satisfied: packaging>=20.0 in /opt/conda/lib/python3.11/site-packages (from spacy) (24.2)\n",
      "Requirement already satisfied: langcodes<4.0.0,>=3.2.0 in /opt/conda/lib/python3.11/site-packages (from spacy) (3.5.0)\n",
      "Requirement already satisfied: language-data>=1.2 in /opt/conda/lib/python3.11/site-packages (from langcodes<4.0.0,>=3.2.0->spacy) (1.3.0)\n",
      "Requirement already satisfied: annotated-types>=0.6.0 in /opt/conda/lib/python3.11/site-packages (from pydantic!=1.8,!=1.8.1,<3.0.0,>=1.7.4->spacy) (0.7.0)\n",
      "Requirement already satisfied: pydantic-core==2.33.2 in /opt/conda/lib/python3.11/site-packages (from pydantic!=1.8,!=1.8.1,<3.0.0,>=1.7.4->spacy) (2.33.2)\n",
      "Requirement already satisfied: typing-extensions>=4.12.2 in /opt/conda/lib/python3.11/site-packages (from pydantic!=1.8,!=1.8.1,<3.0.0,>=1.7.4->spacy) (4.14.0)\n",
      "Requirement already satisfied: typing-inspection>=0.4.0 in /opt/conda/lib/python3.11/site-packages (from pydantic!=1.8,!=1.8.1,<3.0.0,>=1.7.4->spacy) (0.4.1)\n",
      "Requirement already satisfied: charset_normalizer<4,>=2 in /opt/conda/lib/python3.11/site-packages (from requests<3.0.0,>=2.13.0->spacy) (3.4.2)\n",
      "Requirement already satisfied: idna<4,>=2.5 in /opt/conda/lib/python3.11/site-packages (from requests<3.0.0,>=2.13.0->spacy) (3.10)\n",
      "Requirement already satisfied: urllib3<3,>=1.21.1 in /opt/conda/lib/python3.11/site-packages (from requests<3.0.0,>=2.13.0->spacy) (2.4.0)\n",
      "Requirement already satisfied: certifi>=2017.4.17 in /opt/conda/lib/python3.11/site-packages (from requests<3.0.0,>=2.13.0->spacy) (2025.4.26)\n",
      "Requirement already satisfied: blis<1.4.0,>=1.3.0 in /opt/conda/lib/python3.11/site-packages (from thinc<8.4.0,>=8.3.4->spacy) (1.3.0)\n",
      "Requirement already satisfied: confection<1.0.0,>=0.0.1 in /opt/conda/lib/python3.11/site-packages (from thinc<8.4.0,>=8.3.4->spacy) (0.1.5)\n",
      "Requirement already satisfied: click>=8.0.0 in /opt/conda/lib/python3.11/site-packages (from typer<1.0.0,>=0.3.0->spacy) (8.2.1)\n",
      "Requirement already satisfied: shellingham>=1.3.0 in /opt/conda/lib/python3.11/site-packages (from typer<1.0.0,>=0.3.0->spacy) (1.5.4)\n",
      "Requirement already satisfied: rich>=10.11.0 in /opt/conda/lib/python3.11/site-packages (from typer<1.0.0,>=0.3.0->spacy) (14.0.0)\n",
      "Requirement already satisfied: cloudpathlib<1.0.0,>=0.7.0 in /opt/conda/lib/python3.11/site-packages (from weasel<0.5.0,>=0.1.0->spacy) (0.21.1)\n",
      "Requirement already satisfied: smart-open<8.0.0,>=5.2.1 in /opt/conda/lib/python3.11/site-packages (from weasel<0.5.0,>=0.1.0->spacy) (7.1.0)\n",
      "Requirement already satisfied: wrapt in /opt/conda/lib/python3.11/site-packages (from smart-open<8.0.0,>=5.2.1->weasel<0.5.0,>=0.1.0->spacy) (1.17.2)\n",
      "Requirement already satisfied: marisa-trie>=1.1.0 in /opt/conda/lib/python3.11/site-packages (from language-data>=1.2->langcodes<4.0.0,>=3.2.0->spacy) (1.2.1)\n",
      "Requirement already satisfied: markdown-it-py>=2.2.0 in /opt/conda/lib/python3.11/site-packages (from rich>=10.11.0->typer<1.0.0,>=0.3.0->spacy) (3.0.0)\n",
      "Requirement already satisfied: pygments<3.0.0,>=2.13.0 in /opt/conda/lib/python3.11/site-packages (from rich>=10.11.0->typer<1.0.0,>=0.3.0->spacy) (2.19.1)\n",
      "Requirement already satisfied: mdurl~=0.1 in /opt/conda/lib/python3.11/site-packages (from markdown-it-py>=2.2.0->rich>=10.11.0->typer<1.0.0,>=0.3.0->spacy) (0.1.2)\n",
      "Requirement already satisfied: MarkupSafe>=2.0 in /opt/conda/lib/python3.11/site-packages (from jinja2->spacy) (3.0.2)\n",
      "\u001b[33mWARNING: Running pip as the 'root' user can result in broken permissions and conflicting behaviour with the system package manager, possibly rendering your system unusable. It is recommended to use a virtual environment instead: https://pip.pypa.io/warnings/venv. Use the --root-user-action option if you know what you are doing and want to suppress this warning.\u001b[0m\u001b[33m\n",
      "\u001b[0mRequirement already satisfied: langchain in /opt/conda/lib/python3.11/site-packages (0.3.26)\n",
      "Requirement already satisfied: langchain-core<1.0.0,>=0.3.66 in /opt/conda/lib/python3.11/site-packages (from langchain) (0.3.66)\n",
      "Requirement already satisfied: langchain-text-splitters<1.0.0,>=0.3.8 in /opt/conda/lib/python3.11/site-packages (from langchain) (0.3.8)\n",
      "Requirement already satisfied: langsmith>=0.1.17 in /opt/conda/lib/python3.11/site-packages (from langchain) (0.4.4)\n",
      "Requirement already satisfied: pydantic<3.0.0,>=2.7.4 in /opt/conda/lib/python3.11/site-packages (from langchain) (2.11.7)\n",
      "Requirement already satisfied: SQLAlchemy<3,>=1.4 in /opt/conda/lib/python3.11/site-packages (from langchain) (2.0.41)\n",
      "Requirement already satisfied: requests<3,>=2 in /opt/conda/lib/python3.11/site-packages (from langchain) (2.32.3)\n",
      "Requirement already satisfied: PyYAML>=5.3 in /opt/conda/lib/python3.11/site-packages (from langchain) (6.0.2)\n",
      "Requirement already satisfied: tenacity!=8.4.0,<10.0.0,>=8.1.0 in /opt/conda/lib/python3.11/site-packages (from langchain-core<1.0.0,>=0.3.66->langchain) (9.1.2)\n",
      "Requirement already satisfied: jsonpatch<2.0,>=1.33 in /opt/conda/lib/python3.11/site-packages (from langchain-core<1.0.0,>=0.3.66->langchain) (1.33)\n",
      "Requirement already satisfied: packaging<25,>=23.2 in /opt/conda/lib/python3.11/site-packages (from langchain-core<1.0.0,>=0.3.66->langchain) (24.2)\n",
      "Requirement already satisfied: typing-extensions>=4.7 in /opt/conda/lib/python3.11/site-packages (from langchain-core<1.0.0,>=0.3.66->langchain) (4.14.0)\n",
      "Requirement already satisfied: jsonpointer>=1.9 in /opt/conda/lib/python3.11/site-packages (from jsonpatch<2.0,>=1.33->langchain-core<1.0.0,>=0.3.66->langchain) (3.0.0)\n",
      "Requirement already satisfied: annotated-types>=0.6.0 in /opt/conda/lib/python3.11/site-packages (from pydantic<3.0.0,>=2.7.4->langchain) (0.7.0)\n",
      "Requirement already satisfied: pydantic-core==2.33.2 in /opt/conda/lib/python3.11/site-packages (from pydantic<3.0.0,>=2.7.4->langchain) (2.33.2)\n",
      "Requirement already satisfied: typing-inspection>=0.4.0 in /opt/conda/lib/python3.11/site-packages (from pydantic<3.0.0,>=2.7.4->langchain) (0.4.1)\n",
      "Requirement already satisfied: charset_normalizer<4,>=2 in /opt/conda/lib/python3.11/site-packages (from requests<3,>=2->langchain) (3.4.2)\n",
      "Requirement already satisfied: idna<4,>=2.5 in /opt/conda/lib/python3.11/site-packages (from requests<3,>=2->langchain) (3.10)\n",
      "Requirement already satisfied: urllib3<3,>=1.21.1 in /opt/conda/lib/python3.11/site-packages (from requests<3,>=2->langchain) (2.4.0)\n",
      "Requirement already satisfied: certifi>=2017.4.17 in /opt/conda/lib/python3.11/site-packages (from requests<3,>=2->langchain) (2025.4.26)\n",
      "Requirement already satisfied: greenlet>=1 in /opt/conda/lib/python3.11/site-packages (from SQLAlchemy<3,>=1.4->langchain) (3.2.3)\n",
      "Requirement already satisfied: httpx<1,>=0.23.0 in /opt/conda/lib/python3.11/site-packages (from langsmith>=0.1.17->langchain) (0.28.1)\n",
      "Requirement already satisfied: orjson<4.0.0,>=3.9.14 in /opt/conda/lib/python3.11/site-packages (from langsmith>=0.1.17->langchain) (3.10.18)\n",
      "Requirement already satisfied: requests-toolbelt<2.0.0,>=1.0.0 in /opt/conda/lib/python3.11/site-packages (from langsmith>=0.1.17->langchain) (1.0.0)\n",
      "Requirement already satisfied: zstandard<0.24.0,>=0.23.0 in /opt/conda/lib/python3.11/site-packages (from langsmith>=0.1.17->langchain) (0.23.0)\n",
      "Requirement already satisfied: anyio in /opt/conda/lib/python3.11/site-packages (from httpx<1,>=0.23.0->langsmith>=0.1.17->langchain) (4.9.0)\n",
      "Requirement already satisfied: httpcore==1.* in /opt/conda/lib/python3.11/site-packages (from httpx<1,>=0.23.0->langsmith>=0.1.17->langchain) (1.0.9)\n",
      "Requirement already satisfied: h11>=0.16 in /opt/conda/lib/python3.11/site-packages (from httpcore==1.*->httpx<1,>=0.23.0->langsmith>=0.1.17->langchain) (0.16.0)\n",
      "Requirement already satisfied: sniffio>=1.1 in /opt/conda/lib/python3.11/site-packages (from anyio->httpx<1,>=0.23.0->langsmith>=0.1.17->langchain) (1.3.1)\n",
      "\u001b[33mWARNING: Running pip as the 'root' user can result in broken permissions and conflicting behaviour with the system package manager, possibly rendering your system unusable. It is recommended to use a virtual environment instead: https://pip.pypa.io/warnings/venv. Use the --root-user-action option if you know what you are doing and want to suppress this warning.\u001b[0m\u001b[33m\n",
      "\u001b[0mRequirement already satisfied: langchain-core in /opt/conda/lib/python3.11/site-packages (0.3.66)\n",
      "Requirement already satisfied: langsmith>=0.3.45 in /opt/conda/lib/python3.11/site-packages (from langchain-core) (0.4.4)\n",
      "Requirement already satisfied: tenacity!=8.4.0,<10.0.0,>=8.1.0 in /opt/conda/lib/python3.11/site-packages (from langchain-core) (9.1.2)\n",
      "Requirement already satisfied: jsonpatch<2.0,>=1.33 in /opt/conda/lib/python3.11/site-packages (from langchain-core) (1.33)\n",
      "Requirement already satisfied: PyYAML>=5.3 in /opt/conda/lib/python3.11/site-packages (from langchain-core) (6.0.2)\n",
      "Requirement already satisfied: packaging<25,>=23.2 in /opt/conda/lib/python3.11/site-packages (from langchain-core) (24.2)\n",
      "Requirement already satisfied: typing-extensions>=4.7 in /opt/conda/lib/python3.11/site-packages (from langchain-core) (4.14.0)\n",
      "Requirement already satisfied: pydantic>=2.7.4 in /opt/conda/lib/python3.11/site-packages (from langchain-core) (2.11.7)\n",
      "Requirement already satisfied: jsonpointer>=1.9 in /opt/conda/lib/python3.11/site-packages (from jsonpatch<2.0,>=1.33->langchain-core) (3.0.0)\n",
      "Requirement already satisfied: httpx<1,>=0.23.0 in /opt/conda/lib/python3.11/site-packages (from langsmith>=0.3.45->langchain-core) (0.28.1)\n",
      "Requirement already satisfied: orjson<4.0.0,>=3.9.14 in /opt/conda/lib/python3.11/site-packages (from langsmith>=0.3.45->langchain-core) (3.10.18)\n",
      "Requirement already satisfied: requests<3,>=2 in /opt/conda/lib/python3.11/site-packages (from langsmith>=0.3.45->langchain-core) (2.32.3)\n",
      "Requirement already satisfied: requests-toolbelt<2.0.0,>=1.0.0 in /opt/conda/lib/python3.11/site-packages (from langsmith>=0.3.45->langchain-core) (1.0.0)\n",
      "Requirement already satisfied: zstandard<0.24.0,>=0.23.0 in /opt/conda/lib/python3.11/site-packages (from langsmith>=0.3.45->langchain-core) (0.23.0)\n",
      "Requirement already satisfied: anyio in /opt/conda/lib/python3.11/site-packages (from httpx<1,>=0.23.0->langsmith>=0.3.45->langchain-core) (4.9.0)\n",
      "Requirement already satisfied: certifi in /opt/conda/lib/python3.11/site-packages (from httpx<1,>=0.23.0->langsmith>=0.3.45->langchain-core) (2025.4.26)\n",
      "Requirement already satisfied: httpcore==1.* in /opt/conda/lib/python3.11/site-packages (from httpx<1,>=0.23.0->langsmith>=0.3.45->langchain-core) (1.0.9)\n",
      "Requirement already satisfied: idna in /opt/conda/lib/python3.11/site-packages (from httpx<1,>=0.23.0->langsmith>=0.3.45->langchain-core) (3.10)\n",
      "Requirement already satisfied: h11>=0.16 in /opt/conda/lib/python3.11/site-packages (from httpcore==1.*->httpx<1,>=0.23.0->langsmith>=0.3.45->langchain-core) (0.16.0)\n",
      "Requirement already satisfied: annotated-types>=0.6.0 in /opt/conda/lib/python3.11/site-packages (from pydantic>=2.7.4->langchain-core) (0.7.0)\n",
      "Requirement already satisfied: pydantic-core==2.33.2 in /opt/conda/lib/python3.11/site-packages (from pydantic>=2.7.4->langchain-core) (2.33.2)\n",
      "Requirement already satisfied: typing-inspection>=0.4.0 in /opt/conda/lib/python3.11/site-packages (from pydantic>=2.7.4->langchain-core) (0.4.1)\n",
      "Requirement already satisfied: charset_normalizer<4,>=2 in /opt/conda/lib/python3.11/site-packages (from requests<3,>=2->langsmith>=0.3.45->langchain-core) (3.4.2)\n",
      "Requirement already satisfied: urllib3<3,>=1.21.1 in /opt/conda/lib/python3.11/site-packages (from requests<3,>=2->langsmith>=0.3.45->langchain-core) (2.4.0)\n",
      "Requirement already satisfied: sniffio>=1.1 in /opt/conda/lib/python3.11/site-packages (from anyio->httpx<1,>=0.23.0->langsmith>=0.3.45->langchain-core) (1.3.1)\n",
      "\u001b[33mWARNING: Running pip as the 'root' user can result in broken permissions and conflicting behaviour with the system package manager, possibly rendering your system unusable. It is recommended to use a virtual environment instead: https://pip.pypa.io/warnings/venv. Use the --root-user-action option if you know what you are doing and want to suppress this warning.\u001b[0m\u001b[33m\n",
      "\u001b[0mRequirement already satisfied: langchain-openai in /opt/conda/lib/python3.11/site-packages (0.3.27)\n",
      "Requirement already satisfied: langchain-core<1.0.0,>=0.3.66 in /opt/conda/lib/python3.11/site-packages (from langchain-openai) (0.3.66)\n",
      "Requirement already satisfied: openai<2.0.0,>=1.86.0 in /opt/conda/lib/python3.11/site-packages (from langchain-openai) (1.93.0)\n",
      "Requirement already satisfied: tiktoken<1,>=0.7 in /opt/conda/lib/python3.11/site-packages (from langchain-openai) (0.9.0)\n",
      "Requirement already satisfied: langsmith>=0.3.45 in /opt/conda/lib/python3.11/site-packages (from langchain-core<1.0.0,>=0.3.66->langchain-openai) (0.4.4)\n",
      "Requirement already satisfied: tenacity!=8.4.0,<10.0.0,>=8.1.0 in /opt/conda/lib/python3.11/site-packages (from langchain-core<1.0.0,>=0.3.66->langchain-openai) (9.1.2)\n",
      "Requirement already satisfied: jsonpatch<2.0,>=1.33 in /opt/conda/lib/python3.11/site-packages (from langchain-core<1.0.0,>=0.3.66->langchain-openai) (1.33)\n",
      "Requirement already satisfied: PyYAML>=5.3 in /opt/conda/lib/python3.11/site-packages (from langchain-core<1.0.0,>=0.3.66->langchain-openai) (6.0.2)\n",
      "Requirement already satisfied: packaging<25,>=23.2 in /opt/conda/lib/python3.11/site-packages (from langchain-core<1.0.0,>=0.3.66->langchain-openai) (24.2)\n",
      "Requirement already satisfied: typing-extensions>=4.7 in /opt/conda/lib/python3.11/site-packages (from langchain-core<1.0.0,>=0.3.66->langchain-openai) (4.14.0)\n",
      "Requirement already satisfied: pydantic>=2.7.4 in /opt/conda/lib/python3.11/site-packages (from langchain-core<1.0.0,>=0.3.66->langchain-openai) (2.11.7)\n",
      "Requirement already satisfied: jsonpointer>=1.9 in /opt/conda/lib/python3.11/site-packages (from jsonpatch<2.0,>=1.33->langchain-core<1.0.0,>=0.3.66->langchain-openai) (3.0.0)\n",
      "Requirement already satisfied: anyio<5,>=3.5.0 in /opt/conda/lib/python3.11/site-packages (from openai<2.0.0,>=1.86.0->langchain-openai) (4.9.0)\n",
      "Requirement already satisfied: distro<2,>=1.7.0 in /opt/conda/lib/python3.11/site-packages (from openai<2.0.0,>=1.86.0->langchain-openai) (1.9.0)\n",
      "Requirement already satisfied: httpx<1,>=0.23.0 in /opt/conda/lib/python3.11/site-packages (from openai<2.0.0,>=1.86.0->langchain-openai) (0.28.1)\n",
      "Requirement already satisfied: jiter<1,>=0.4.0 in /opt/conda/lib/python3.11/site-packages (from openai<2.0.0,>=1.86.0->langchain-openai) (0.10.0)\n",
      "Requirement already satisfied: sniffio in /opt/conda/lib/python3.11/site-packages (from openai<2.0.0,>=1.86.0->langchain-openai) (1.3.1)\n",
      "Requirement already satisfied: tqdm>4 in /opt/conda/lib/python3.11/site-packages (from openai<2.0.0,>=1.86.0->langchain-openai) (4.67.1)\n",
      "Requirement already satisfied: idna>=2.8 in /opt/conda/lib/python3.11/site-packages (from anyio<5,>=3.5.0->openai<2.0.0,>=1.86.0->langchain-openai) (3.10)\n",
      "Requirement already satisfied: certifi in /opt/conda/lib/python3.11/site-packages (from httpx<1,>=0.23.0->openai<2.0.0,>=1.86.0->langchain-openai) (2025.4.26)\n",
      "Requirement already satisfied: httpcore==1.* in /opt/conda/lib/python3.11/site-packages (from httpx<1,>=0.23.0->openai<2.0.0,>=1.86.0->langchain-openai) (1.0.9)\n",
      "Requirement already satisfied: h11>=0.16 in /opt/conda/lib/python3.11/site-packages (from httpcore==1.*->httpx<1,>=0.23.0->openai<2.0.0,>=1.86.0->langchain-openai) (0.16.0)\n",
      "Requirement already satisfied: annotated-types>=0.6.0 in /opt/conda/lib/python3.11/site-packages (from pydantic>=2.7.4->langchain-core<1.0.0,>=0.3.66->langchain-openai) (0.7.0)\n",
      "Requirement already satisfied: pydantic-core==2.33.2 in /opt/conda/lib/python3.11/site-packages (from pydantic>=2.7.4->langchain-core<1.0.0,>=0.3.66->langchain-openai) (2.33.2)\n",
      "Requirement already satisfied: typing-inspection>=0.4.0 in /opt/conda/lib/python3.11/site-packages (from pydantic>=2.7.4->langchain-core<1.0.0,>=0.3.66->langchain-openai) (0.4.1)\n",
      "Requirement already satisfied: regex>=2022.1.18 in /opt/conda/lib/python3.11/site-packages (from tiktoken<1,>=0.7->langchain-openai) (2024.11.6)\n",
      "Requirement already satisfied: requests>=2.26.0 in /opt/conda/lib/python3.11/site-packages (from tiktoken<1,>=0.7->langchain-openai) (2.32.3)\n",
      "Requirement already satisfied: orjson<4.0.0,>=3.9.14 in /opt/conda/lib/python3.11/site-packages (from langsmith>=0.3.45->langchain-core<1.0.0,>=0.3.66->langchain-openai) (3.10.18)\n",
      "Requirement already satisfied: requests-toolbelt<2.0.0,>=1.0.0 in /opt/conda/lib/python3.11/site-packages (from langsmith>=0.3.45->langchain-core<1.0.0,>=0.3.66->langchain-openai) (1.0.0)\n",
      "Requirement already satisfied: zstandard<0.24.0,>=0.23.0 in /opt/conda/lib/python3.11/site-packages (from langsmith>=0.3.45->langchain-core<1.0.0,>=0.3.66->langchain-openai) (0.23.0)\n",
      "Requirement already satisfied: charset_normalizer<4,>=2 in /opt/conda/lib/python3.11/site-packages (from requests>=2.26.0->tiktoken<1,>=0.7->langchain-openai) (3.4.2)\n",
      "Requirement already satisfied: urllib3<3,>=1.21.1 in /opt/conda/lib/python3.11/site-packages (from requests>=2.26.0->tiktoken<1,>=0.7->langchain-openai) (2.4.0)\n",
      "\u001b[33mWARNING: Running pip as the 'root' user can result in broken permissions and conflicting behaviour with the system package manager, possibly rendering your system unusable. It is recommended to use a virtual environment instead: https://pip.pypa.io/warnings/venv. Use the --root-user-action option if you know what you are doing and want to suppress this warning.\u001b[0m\u001b[33m\n",
      "\u001b[0mRequirement already satisfied: langchain-community in /opt/conda/lib/python3.11/site-packages (0.3.26)\n",
      "Requirement already satisfied: langchain-core<1.0.0,>=0.3.66 in /opt/conda/lib/python3.11/site-packages (from langchain-community) (0.3.66)\n",
      "Requirement already satisfied: langchain<1.0.0,>=0.3.26 in /opt/conda/lib/python3.11/site-packages (from langchain-community) (0.3.26)\n",
      "Requirement already satisfied: SQLAlchemy<3,>=1.4 in /opt/conda/lib/python3.11/site-packages (from langchain-community) (2.0.41)\n",
      "Requirement already satisfied: requests<3,>=2 in /opt/conda/lib/python3.11/site-packages (from langchain-community) (2.32.3)\n",
      "Requirement already satisfied: PyYAML>=5.3 in /opt/conda/lib/python3.11/site-packages (from langchain-community) (6.0.2)\n",
      "Requirement already satisfied: aiohttp<4.0.0,>=3.8.3 in /opt/conda/lib/python3.11/site-packages (from langchain-community) (3.12.13)\n",
      "Requirement already satisfied: tenacity!=8.4.0,<10,>=8.1.0 in /opt/conda/lib/python3.11/site-packages (from langchain-community) (9.1.2)\n",
      "Requirement already satisfied: dataclasses-json<0.7,>=0.5.7 in /opt/conda/lib/python3.11/site-packages (from langchain-community) (0.6.7)\n",
      "Requirement already satisfied: pydantic-settings<3.0.0,>=2.4.0 in /opt/conda/lib/python3.11/site-packages (from langchain-community) (2.10.1)\n",
      "Requirement already satisfied: langsmith>=0.1.125 in /opt/conda/lib/python3.11/site-packages (from langchain-community) (0.4.4)\n",
      "Requirement already satisfied: httpx-sse<1.0.0,>=0.4.0 in /opt/conda/lib/python3.11/site-packages (from langchain-community) (0.4.1)\n",
      "Requirement already satisfied: numpy>=1.26.2 in /opt/conda/lib/python3.11/site-packages (from langchain-community) (2.2.6)\n",
      "Requirement already satisfied: aiohappyeyeballs>=2.5.0 in /opt/conda/lib/python3.11/site-packages (from aiohttp<4.0.0,>=3.8.3->langchain-community) (2.6.1)\n",
      "Requirement already satisfied: aiosignal>=1.1.2 in /opt/conda/lib/python3.11/site-packages (from aiohttp<4.0.0,>=3.8.3->langchain-community) (1.3.2)\n",
      "Requirement already satisfied: attrs>=17.3.0 in /opt/conda/lib/python3.11/site-packages (from aiohttp<4.0.0,>=3.8.3->langchain-community) (25.3.0)\n",
      "Requirement already satisfied: frozenlist>=1.1.1 in /opt/conda/lib/python3.11/site-packages (from aiohttp<4.0.0,>=3.8.3->langchain-community) (1.7.0)\n",
      "Requirement already satisfied: multidict<7.0,>=4.5 in /opt/conda/lib/python3.11/site-packages (from aiohttp<4.0.0,>=3.8.3->langchain-community) (6.6.2)\n",
      "Requirement already satisfied: propcache>=0.2.0 in /opt/conda/lib/python3.11/site-packages (from aiohttp<4.0.0,>=3.8.3->langchain-community) (0.3.2)\n",
      "Requirement already satisfied: yarl<2.0,>=1.17.0 in /opt/conda/lib/python3.11/site-packages (from aiohttp<4.0.0,>=3.8.3->langchain-community) (1.20.1)\n",
      "Requirement already satisfied: marshmallow<4.0.0,>=3.18.0 in /opt/conda/lib/python3.11/site-packages (from dataclasses-json<0.7,>=0.5.7->langchain-community) (3.26.1)\n",
      "Requirement already satisfied: typing-inspect<1,>=0.4.0 in /opt/conda/lib/python3.11/site-packages (from dataclasses-json<0.7,>=0.5.7->langchain-community) (0.9.0)\n",
      "Requirement already satisfied: langchain-text-splitters<1.0.0,>=0.3.8 in /opt/conda/lib/python3.11/site-packages (from langchain<1.0.0,>=0.3.26->langchain-community) (0.3.8)\n",
      "Requirement already satisfied: pydantic<3.0.0,>=2.7.4 in /opt/conda/lib/python3.11/site-packages (from langchain<1.0.0,>=0.3.26->langchain-community) (2.11.7)\n",
      "Requirement already satisfied: jsonpatch<2.0,>=1.33 in /opt/conda/lib/python3.11/site-packages (from langchain-core<1.0.0,>=0.3.66->langchain-community) (1.33)\n",
      "Requirement already satisfied: packaging<25,>=23.2 in /opt/conda/lib/python3.11/site-packages (from langchain-core<1.0.0,>=0.3.66->langchain-community) (24.2)\n",
      "Requirement already satisfied: typing-extensions>=4.7 in /opt/conda/lib/python3.11/site-packages (from langchain-core<1.0.0,>=0.3.66->langchain-community) (4.14.0)\n",
      "Requirement already satisfied: jsonpointer>=1.9 in /opt/conda/lib/python3.11/site-packages (from jsonpatch<2.0,>=1.33->langchain-core<1.0.0,>=0.3.66->langchain-community) (3.0.0)\n",
      "Requirement already satisfied: annotated-types>=0.6.0 in /opt/conda/lib/python3.11/site-packages (from pydantic<3.0.0,>=2.7.4->langchain<1.0.0,>=0.3.26->langchain-community) (0.7.0)\n",
      "Requirement already satisfied: pydantic-core==2.33.2 in /opt/conda/lib/python3.11/site-packages (from pydantic<3.0.0,>=2.7.4->langchain<1.0.0,>=0.3.26->langchain-community) (2.33.2)\n",
      "Requirement already satisfied: typing-inspection>=0.4.0 in /opt/conda/lib/python3.11/site-packages (from pydantic<3.0.0,>=2.7.4->langchain<1.0.0,>=0.3.26->langchain-community) (0.4.1)\n",
      "Requirement already satisfied: python-dotenv>=0.21.0 in /opt/conda/lib/python3.11/site-packages (from pydantic-settings<3.0.0,>=2.4.0->langchain-community) (1.1.1)\n",
      "Requirement already satisfied: charset_normalizer<4,>=2 in /opt/conda/lib/python3.11/site-packages (from requests<3,>=2->langchain-community) (3.4.2)\n",
      "Requirement already satisfied: idna<4,>=2.5 in /opt/conda/lib/python3.11/site-packages (from requests<3,>=2->langchain-community) (3.10)\n",
      "Requirement already satisfied: urllib3<3,>=1.21.1 in /opt/conda/lib/python3.11/site-packages (from requests<3,>=2->langchain-community) (2.4.0)\n",
      "Requirement already satisfied: certifi>=2017.4.17 in /opt/conda/lib/python3.11/site-packages (from requests<3,>=2->langchain-community) (2025.4.26)\n",
      "Requirement already satisfied: greenlet>=1 in /opt/conda/lib/python3.11/site-packages (from SQLAlchemy<3,>=1.4->langchain-community) (3.2.3)\n",
      "Requirement already satisfied: mypy-extensions>=0.3.0 in /opt/conda/lib/python3.11/site-packages (from typing-inspect<1,>=0.4.0->dataclasses-json<0.7,>=0.5.7->langchain-community) (1.1.0)\n",
      "Requirement already satisfied: httpx<1,>=0.23.0 in /opt/conda/lib/python3.11/site-packages (from langsmith>=0.1.125->langchain-community) (0.28.1)\n",
      "Requirement already satisfied: orjson<4.0.0,>=3.9.14 in /opt/conda/lib/python3.11/site-packages (from langsmith>=0.1.125->langchain-community) (3.10.18)\n",
      "Requirement already satisfied: requests-toolbelt<2.0.0,>=1.0.0 in /opt/conda/lib/python3.11/site-packages (from langsmith>=0.1.125->langchain-community) (1.0.0)\n",
      "Requirement already satisfied: zstandard<0.24.0,>=0.23.0 in /opt/conda/lib/python3.11/site-packages (from langsmith>=0.1.125->langchain-community) (0.23.0)\n",
      "Requirement already satisfied: anyio in /opt/conda/lib/python3.11/site-packages (from httpx<1,>=0.23.0->langsmith>=0.1.125->langchain-community) (4.9.0)\n",
      "Requirement already satisfied: httpcore==1.* in /opt/conda/lib/python3.11/site-packages (from httpx<1,>=0.23.0->langsmith>=0.1.125->langchain-community) (1.0.9)\n",
      "Requirement already satisfied: h11>=0.16 in /opt/conda/lib/python3.11/site-packages (from httpcore==1.*->httpx<1,>=0.23.0->langsmith>=0.1.125->langchain-community) (0.16.0)\n",
      "Requirement already satisfied: sniffio>=1.1 in /opt/conda/lib/python3.11/site-packages (from anyio->httpx<1,>=0.23.0->langsmith>=0.1.125->langchain-community) (1.3.1)\n",
      "\u001b[33mWARNING: Running pip as the 'root' user can result in broken permissions and conflicting behaviour with the system package manager, possibly rendering your system unusable. It is recommended to use a virtual environment instead: https://pip.pypa.io/warnings/venv. Use the --root-user-action option if you know what you are doing and want to suppress this warning.\u001b[0m\u001b[33m\n",
      "\u001b[0mRequirement already satisfied: langchain-huggingface in /opt/conda/lib/python3.11/site-packages (0.3.0)\n",
      "Requirement already satisfied: langchain-core<1.0.0,>=0.3.65 in /opt/conda/lib/python3.11/site-packages (from langchain-huggingface) (0.3.66)\n",
      "Requirement already satisfied: tokenizers>=0.19.1 in /opt/conda/lib/python3.11/site-packages (from langchain-huggingface) (0.21.2)\n",
      "Requirement already satisfied: huggingface-hub>=0.30.2 in /opt/conda/lib/python3.11/site-packages (from langchain-huggingface) (0.33.1)\n",
      "Requirement already satisfied: langsmith>=0.3.45 in /opt/conda/lib/python3.11/site-packages (from langchain-core<1.0.0,>=0.3.65->langchain-huggingface) (0.4.4)\n",
      "Requirement already satisfied: tenacity!=8.4.0,<10.0.0,>=8.1.0 in /opt/conda/lib/python3.11/site-packages (from langchain-core<1.0.0,>=0.3.65->langchain-huggingface) (9.1.2)\n",
      "Requirement already satisfied: jsonpatch<2.0,>=1.33 in /opt/conda/lib/python3.11/site-packages (from langchain-core<1.0.0,>=0.3.65->langchain-huggingface) (1.33)\n",
      "Requirement already satisfied: PyYAML>=5.3 in /opt/conda/lib/python3.11/site-packages (from langchain-core<1.0.0,>=0.3.65->langchain-huggingface) (6.0.2)\n",
      "Requirement already satisfied: packaging<25,>=23.2 in /opt/conda/lib/python3.11/site-packages (from langchain-core<1.0.0,>=0.3.65->langchain-huggingface) (24.2)\n",
      "Requirement already satisfied: typing-extensions>=4.7 in /opt/conda/lib/python3.11/site-packages (from langchain-core<1.0.0,>=0.3.65->langchain-huggingface) (4.14.0)\n",
      "Requirement already satisfied: pydantic>=2.7.4 in /opt/conda/lib/python3.11/site-packages (from langchain-core<1.0.0,>=0.3.65->langchain-huggingface) (2.11.7)\n",
      "Requirement already satisfied: jsonpointer>=1.9 in /opt/conda/lib/python3.11/site-packages (from jsonpatch<2.0,>=1.33->langchain-core<1.0.0,>=0.3.65->langchain-huggingface) (3.0.0)\n",
      "Requirement already satisfied: filelock in /opt/conda/lib/python3.11/site-packages (from huggingface-hub>=0.30.2->langchain-huggingface) (3.18.0)\n",
      "Requirement already satisfied: fsspec>=2023.5.0 in /opt/conda/lib/python3.11/site-packages (from huggingface-hub>=0.30.2->langchain-huggingface) (2025.5.1)\n",
      "Requirement already satisfied: requests in /opt/conda/lib/python3.11/site-packages (from huggingface-hub>=0.30.2->langchain-huggingface) (2.32.3)\n",
      "Requirement already satisfied: tqdm>=4.42.1 in /opt/conda/lib/python3.11/site-packages (from huggingface-hub>=0.30.2->langchain-huggingface) (4.67.1)\n",
      "Requirement already satisfied: hf-xet<2.0.0,>=1.1.2 in /opt/conda/lib/python3.11/site-packages (from huggingface-hub>=0.30.2->langchain-huggingface) (1.1.5)\n",
      "Requirement already satisfied: httpx<1,>=0.23.0 in /opt/conda/lib/python3.11/site-packages (from langsmith>=0.3.45->langchain-core<1.0.0,>=0.3.65->langchain-huggingface) (0.28.1)\n",
      "Requirement already satisfied: orjson<4.0.0,>=3.9.14 in /opt/conda/lib/python3.11/site-packages (from langsmith>=0.3.45->langchain-core<1.0.0,>=0.3.65->langchain-huggingface) (3.10.18)\n",
      "Requirement already satisfied: requests-toolbelt<2.0.0,>=1.0.0 in /opt/conda/lib/python3.11/site-packages (from langsmith>=0.3.45->langchain-core<1.0.0,>=0.3.65->langchain-huggingface) (1.0.0)\n",
      "Requirement already satisfied: zstandard<0.24.0,>=0.23.0 in /opt/conda/lib/python3.11/site-packages (from langsmith>=0.3.45->langchain-core<1.0.0,>=0.3.65->langchain-huggingface) (0.23.0)\n",
      "Requirement already satisfied: anyio in /opt/conda/lib/python3.11/site-packages (from httpx<1,>=0.23.0->langsmith>=0.3.45->langchain-core<1.0.0,>=0.3.65->langchain-huggingface) (4.9.0)\n",
      "Requirement already satisfied: certifi in /opt/conda/lib/python3.11/site-packages (from httpx<1,>=0.23.0->langsmith>=0.3.45->langchain-core<1.0.0,>=0.3.65->langchain-huggingface) (2025.4.26)\n",
      "Requirement already satisfied: httpcore==1.* in /opt/conda/lib/python3.11/site-packages (from httpx<1,>=0.23.0->langsmith>=0.3.45->langchain-core<1.0.0,>=0.3.65->langchain-huggingface) (1.0.9)\n",
      "Requirement already satisfied: idna in /opt/conda/lib/python3.11/site-packages (from httpx<1,>=0.23.0->langsmith>=0.3.45->langchain-core<1.0.0,>=0.3.65->langchain-huggingface) (3.10)\n",
      "Requirement already satisfied: h11>=0.16 in /opt/conda/lib/python3.11/site-packages (from httpcore==1.*->httpx<1,>=0.23.0->langsmith>=0.3.45->langchain-core<1.0.0,>=0.3.65->langchain-huggingface) (0.16.0)\n",
      "Requirement already satisfied: annotated-types>=0.6.0 in /opt/conda/lib/python3.11/site-packages (from pydantic>=2.7.4->langchain-core<1.0.0,>=0.3.65->langchain-huggingface) (0.7.0)\n",
      "Requirement already satisfied: pydantic-core==2.33.2 in /opt/conda/lib/python3.11/site-packages (from pydantic>=2.7.4->langchain-core<1.0.0,>=0.3.65->langchain-huggingface) (2.33.2)\n",
      "Requirement already satisfied: typing-inspection>=0.4.0 in /opt/conda/lib/python3.11/site-packages (from pydantic>=2.7.4->langchain-core<1.0.0,>=0.3.65->langchain-huggingface) (0.4.1)\n",
      "Requirement already satisfied: charset_normalizer<4,>=2 in /opt/conda/lib/python3.11/site-packages (from requests->huggingface-hub>=0.30.2->langchain-huggingface) (3.4.2)\n",
      "Requirement already satisfied: urllib3<3,>=1.21.1 in /opt/conda/lib/python3.11/site-packages (from requests->huggingface-hub>=0.30.2->langchain-huggingface) (2.4.0)\n",
      "Requirement already satisfied: sniffio>=1.1 in /opt/conda/lib/python3.11/site-packages (from anyio->httpx<1,>=0.23.0->langsmith>=0.3.45->langchain-core<1.0.0,>=0.3.65->langchain-huggingface) (1.3.1)\n",
      "\u001b[33mWARNING: Running pip as the 'root' user can result in broken permissions and conflicting behaviour with the system package manager, possibly rendering your system unusable. It is recommended to use a virtual environment instead: https://pip.pypa.io/warnings/venv. Use the --root-user-action option if you know what you are doing and want to suppress this warning.\u001b[0m\u001b[33m\n",
      "\u001b[0mRequirement already satisfied: sentence-transformers in /opt/conda/lib/python3.11/site-packages (4.1.0)\n",
      "Requirement already satisfied: transformers<5.0.0,>=4.41.0 in /opt/conda/lib/python3.11/site-packages (from sentence-transformers) (4.53.0)\n",
      "Requirement already satisfied: tqdm in /opt/conda/lib/python3.11/site-packages (from sentence-transformers) (4.67.1)\n",
      "Requirement already satisfied: torch>=1.11.0 in /opt/conda/lib/python3.11/site-packages (from sentence-transformers) (2.7.1+cu118)\n",
      "Requirement already satisfied: scikit-learn in /opt/conda/lib/python3.11/site-packages (from sentence-transformers) (1.7.0)\n",
      "Requirement already satisfied: scipy in /opt/conda/lib/python3.11/site-packages (from sentence-transformers) (1.16.0)\n",
      "Requirement already satisfied: huggingface-hub>=0.20.0 in /opt/conda/lib/python3.11/site-packages (from sentence-transformers) (0.33.1)\n",
      "Requirement already satisfied: Pillow in /opt/conda/lib/python3.11/site-packages (from sentence-transformers) (11.0.0)\n",
      "Requirement already satisfied: typing_extensions>=4.5.0 in /opt/conda/lib/python3.11/site-packages (from sentence-transformers) (4.14.0)\n",
      "Requirement already satisfied: filelock in /opt/conda/lib/python3.11/site-packages (from transformers<5.0.0,>=4.41.0->sentence-transformers) (3.18.0)\n",
      "Requirement already satisfied: numpy>=1.17 in /opt/conda/lib/python3.11/site-packages (from transformers<5.0.0,>=4.41.0->sentence-transformers) (2.2.6)\n",
      "Requirement already satisfied: packaging>=20.0 in /opt/conda/lib/python3.11/site-packages (from transformers<5.0.0,>=4.41.0->sentence-transformers) (24.2)\n",
      "Requirement already satisfied: pyyaml>=5.1 in /opt/conda/lib/python3.11/site-packages (from transformers<5.0.0,>=4.41.0->sentence-transformers) (6.0.2)\n",
      "Requirement already satisfied: regex!=2019.12.17 in /opt/conda/lib/python3.11/site-packages (from transformers<5.0.0,>=4.41.0->sentence-transformers) (2024.11.6)\n",
      "Requirement already satisfied: requests in /opt/conda/lib/python3.11/site-packages (from transformers<5.0.0,>=4.41.0->sentence-transformers) (2.32.3)\n",
      "Requirement already satisfied: tokenizers<0.22,>=0.21 in /opt/conda/lib/python3.11/site-packages (from transformers<5.0.0,>=4.41.0->sentence-transformers) (0.21.2)\n",
      "Requirement already satisfied: safetensors>=0.4.3 in /opt/conda/lib/python3.11/site-packages (from transformers<5.0.0,>=4.41.0->sentence-transformers) (0.5.3)\n",
      "Requirement already satisfied: fsspec>=2023.5.0 in /opt/conda/lib/python3.11/site-packages (from huggingface-hub>=0.20.0->sentence-transformers) (2025.5.1)\n",
      "Requirement already satisfied: hf-xet<2.0.0,>=1.1.2 in /opt/conda/lib/python3.11/site-packages (from huggingface-hub>=0.20.0->sentence-transformers) (1.1.5)\n",
      "Requirement already satisfied: sympy>=1.13.3 in /opt/conda/lib/python3.11/site-packages (from torch>=1.11.0->sentence-transformers) (1.14.0)\n",
      "Requirement already satisfied: networkx in /opt/conda/lib/python3.11/site-packages (from torch>=1.11.0->sentence-transformers) (3.5)\n",
      "Requirement already satisfied: jinja2 in /opt/conda/lib/python3.11/site-packages (from torch>=1.11.0->sentence-transformers) (3.1.6)\n",
      "Requirement already satisfied: nvidia-cuda-nvrtc-cu11==11.8.89 in /opt/conda/lib/python3.11/site-packages (from torch>=1.11.0->sentence-transformers) (11.8.89)\n",
      "Requirement already satisfied: nvidia-cuda-runtime-cu11==11.8.89 in /opt/conda/lib/python3.11/site-packages (from torch>=1.11.0->sentence-transformers) (11.8.89)\n",
      "Requirement already satisfied: nvidia-cuda-cupti-cu11==11.8.87 in /opt/conda/lib/python3.11/site-packages (from torch>=1.11.0->sentence-transformers) (11.8.87)\n",
      "Requirement already satisfied: nvidia-cudnn-cu11==9.1.0.70 in /opt/conda/lib/python3.11/site-packages (from torch>=1.11.0->sentence-transformers) (9.1.0.70)\n",
      "Requirement already satisfied: nvidia-cublas-cu11==11.11.3.6 in /opt/conda/lib/python3.11/site-packages (from torch>=1.11.0->sentence-transformers) (11.11.3.6)\n",
      "Requirement already satisfied: nvidia-cufft-cu11==10.9.0.58 in /opt/conda/lib/python3.11/site-packages (from torch>=1.11.0->sentence-transformers) (10.9.0.58)\n",
      "Requirement already satisfied: nvidia-curand-cu11==10.3.0.86 in /opt/conda/lib/python3.11/site-packages (from torch>=1.11.0->sentence-transformers) (10.3.0.86)\n",
      "Requirement already satisfied: nvidia-cusolver-cu11==11.4.1.48 in /opt/conda/lib/python3.11/site-packages (from torch>=1.11.0->sentence-transformers) (11.4.1.48)\n",
      "Requirement already satisfied: nvidia-cusparse-cu11==11.7.5.86 in /opt/conda/lib/python3.11/site-packages (from torch>=1.11.0->sentence-transformers) (11.7.5.86)\n",
      "Requirement already satisfied: nvidia-nccl-cu11==2.21.5 in /opt/conda/lib/python3.11/site-packages (from torch>=1.11.0->sentence-transformers) (2.21.5)\n",
      "Requirement already satisfied: nvidia-nvtx-cu11==11.8.86 in /opt/conda/lib/python3.11/site-packages (from torch>=1.11.0->sentence-transformers) (11.8.86)\n",
      "Requirement already satisfied: triton==3.3.1 in /opt/conda/lib/python3.11/site-packages (from torch>=1.11.0->sentence-transformers) (3.3.1)\n",
      "Requirement already satisfied: setuptools>=40.8.0 in /opt/conda/lib/python3.11/site-packages (from triton==3.3.1->torch>=1.11.0->sentence-transformers) (75.8.2)\n",
      "Requirement already satisfied: mpmath<1.4,>=1.1.0 in /opt/conda/lib/python3.11/site-packages (from sympy>=1.13.3->torch>=1.11.0->sentence-transformers) (1.3.0)\n",
      "Requirement already satisfied: MarkupSafe>=2.0 in /opt/conda/lib/python3.11/site-packages (from jinja2->torch>=1.11.0->sentence-transformers) (3.0.2)\n",
      "Requirement already satisfied: charset_normalizer<4,>=2 in /opt/conda/lib/python3.11/site-packages (from requests->transformers<5.0.0,>=4.41.0->sentence-transformers) (3.4.2)\n",
      "Requirement already satisfied: idna<4,>=2.5 in /opt/conda/lib/python3.11/site-packages (from requests->transformers<5.0.0,>=4.41.0->sentence-transformers) (3.10)\n",
      "Requirement already satisfied: urllib3<3,>=1.21.1 in /opt/conda/lib/python3.11/site-packages (from requests->transformers<5.0.0,>=4.41.0->sentence-transformers) (2.4.0)\n",
      "Requirement already satisfied: certifi>=2017.4.17 in /opt/conda/lib/python3.11/site-packages (from requests->transformers<5.0.0,>=4.41.0->sentence-transformers) (2025.4.26)\n",
      "Requirement already satisfied: joblib>=1.2.0 in /opt/conda/lib/python3.11/site-packages (from scikit-learn->sentence-transformers) (1.5.1)\n",
      "Requirement already satisfied: threadpoolctl>=3.1.0 in /opt/conda/lib/python3.11/site-packages (from scikit-learn->sentence-transformers) (3.6.0)\n",
      "\u001b[33mWARNING: Running pip as the 'root' user can result in broken permissions and conflicting behaviour with the system package manager, possibly rendering your system unusable. It is recommended to use a virtual environment instead: https://pip.pypa.io/warnings/venv. Use the --root-user-action option if you know what you are doing and want to suppress this warning.\u001b[0m\u001b[33m\n",
      "\u001b[0m"
     ]
    }
   ],
   "source": [
    "!pip install pypdf # pypdf\n",
    "!pip install spacy # spaCy\n",
    "!pip install langchain # LangChain Official\n",
    "!pip install langchain-core # Langchain Core\n",
    "!pip install langchain-openai # LangChain Open-AI\n",
    "!pip install langchain-community # LangChain Community\n",
    "!pip install langchain-huggingface # LangChain Huggingface\n",
    "!pip install sentence-transformers # Sentence Transformers"
   ]
  },
  {
   "cell_type": "markdown",
   "id": "2912b527-cbb1-4292-8578-9a52aca760ac",
   "metadata": {},
   "source": [
    "## 1. 패키지 로드"
   ]
  },
  {
   "cell_type": "code",
   "execution_count": 140,
   "id": "620a34c2-3e8e-4734-b99b-ab97c4752ddf",
   "metadata": {},
   "outputs": [],
   "source": [
    "from typing import List, Union\n",
    "import os\n",
    "import faiss\n",
    "import getpass\n",
    "import numpy as np\n",
    "from operator import itemgetter\n",
    "from pydantic import BaseModel, Field\n",
    "from langchain_openai import OpenAI\n",
    "from langchain_huggingface import (\n",
    "    HuggingFaceEndpoint,\n",
    "    HuggingFaceEmbeddings\n",
    ")\n",
    "from langchain.document_loaders import PyPDFLoader\n",
    "from langchain_community.vectorstores import FAISS\n",
    "from langchain_community.docstore.in_memory import InMemoryDocstore\n",
    "from langchain.text_splitter import SpacyTextSplitter\n",
    "from langchain_core.documents import Document\n",
    "from langchain_core.output_parsers import StrOutputParser\n",
    "from langchain_core.messages import HumanMessage, AIMessage, SystemMessage\n",
    "from langchain_core.runnables import RunnableLambda, RunnableMap, RunnablePassthrough\n",
    "from langchain_core.runnables.history import RunnableWithMessageHistory\n",
    "from langchain_core.prompts import PromptTemplate\n",
    "from langchain.callbacks.tracers import ConsoleCallbackHandler"
   ]
  },
  {
   "cell_type": "markdown",
   "id": "04bf84fe-051d-4286-b525-deac88c60aca",
   "metadata": {},
   "source": [
    "## 2. 모델 로드"
   ]
  },
  {
   "cell_type": "markdown",
   "id": "24e598ad-a2d7-45fe-b3a5-cbafc5411046",
   "metadata": {},
   "source": [
    "### 1) Split Model"
   ]
  },
  {
   "cell_type": "code",
   "execution_count": 3,
   "id": "7a4fb0bb-cca3-4a2e-9e3b-9f85eee10e37",
   "metadata": {},
   "outputs": [
    {
     "name": "stdout",
     "output_type": "stream",
     "text": [
      "Collecting ko-core-news-lg==3.8.0\n",
      "  Downloading https://github.com/explosion/spacy-models/releases/download/ko_core_news_lg-3.8.0/ko_core_news_lg-3.8.0-py3-none-any.whl (230.9 MB)\n",
      "\u001b[2K     \u001b[38;2;114;156;31m━━━━━━━━━━━━━━━━━━━━━━━━━━━━━━━━━━━━━━\u001b[0m \u001b[32m230.9/230.9 MB\u001b[0m \u001b[31m26.6 MB/s\u001b[0m eta \u001b[36m0:00:00\u001b[0mm eta \u001b[36m0:00:01\u001b[0m0:01\u001b[0m:01\u001b[0m\n",
      "\u001b[?25h\u001b[33mWARNING: Running pip as the 'root' user can result in broken permissions and conflicting behaviour with the system package manager, possibly rendering your system unusable. It is recommended to use a virtual environment instead: https://pip.pypa.io/warnings/venv. Use the --root-user-action option if you know what you are doing and want to suppress this warning.\u001b[0m\u001b[33m\n",
      "\u001b[0m\u001b[38;5;2m✔ Download and installation successful\u001b[0m\n",
      "You can now load the package via spacy.load('ko_core_news_lg')\n"
     ]
    }
   ],
   "source": [
    "# spaCy 모델 다운로드\n",
    "!python -m spacy download ko_core_news_lg"
   ]
  },
  {
   "cell_type": "code",
   "execution_count": 4,
   "id": "d3e555f4-d754-4c1e-9cc9-26343fe431cf",
   "metadata": {},
   "outputs": [],
   "source": [
    "# spaCy Text Splitter Model 로드 옵션\n",
    "spacy_pipeline = \"ko_core_news_lg\" # spaCy 모델명\n",
    "spacy_chunk_size = 300 # 최대 청크 크기\n",
    "spacy_chunk_overlap = 50 # 청크 중복 허용 크기\n",
    "\n",
    "# spaCy Text Splitter Model 로드\n",
    "text_splitter_model = SpacyTextSplitter(\n",
    "    pipeline=spacy_pipeline,\n",
    "    chunk_size=spacy_chunk_size,\n",
    "    chunk_overlap=spacy_chunk_overlap\n",
    ")"
   ]
  },
  {
   "cell_type": "markdown",
   "id": "6fbec56a-5301-4393-b47e-539bc117f630",
   "metadata": {},
   "source": [
    "### 2) Embedding Model"
   ]
  },
  {
   "cell_type": "code",
   "execution_count": 5,
   "id": "3d627ef4-196d-4f28-8063-b65eab92068c",
   "metadata": {},
   "outputs": [
    {
     "name": "stderr",
     "output_type": "stream",
     "text": [
      "/opt/conda/lib/python3.11/site-packages/tqdm/auto.py:21: TqdmWarning: IProgress not found. Please update jupyter and ipywidgets. See https://ipywidgets.readthedocs.io/en/stable/user_install.html\n",
      "  from .autonotebook import tqdm as notebook_tqdm\n"
     ]
    }
   ],
   "source": [
    "# Embedding Model 로드 옵션\n",
    "emb_model_name = \"intfloat/multilingual-e5-large-instruct\" # HuggingFace 모델 Repository\n",
    "emb_model_kwargs = {'device': 'cuda'} # 연산 장치 선택 (\"cpu\" or \"cuda\")\n",
    "emb_encode_kwargs = {'normalize_embeddings': False} # 정규화 여부 선택\n",
    "emb_model_cache_folder = \"../../models/\" # 모델 가중치 저장 폴더 경로\n",
    "\n",
    "# Embedding Model 로드\n",
    "embedding_model = HuggingFaceEmbeddings(\n",
    "    model_name=emb_model_name,\n",
    "    model_kwargs=emb_model_kwargs,\n",
    "    encode_kwargs=emb_encode_kwargs,\n",
    "    cache_folder=emb_model_cache_folder\n",
    ")"
   ]
  },
  {
   "cell_type": "markdown",
   "id": "eff7fa9f-c318-4a4c-a5cc-51ec3f848780",
   "metadata": {},
   "source": [
    "### 3) LLM(Large Language Model)\n",
    "*OpenAI LLM 또는 HuggingFace LLM 선택*"
   ]
  },
  {
   "cell_type": "markdown",
   "id": "cb5cbd58-2654-40cc-b90d-e311a1186890",
   "metadata": {},
   "source": [
    "#### (1) OpenAI 모델"
   ]
  },
  {
   "cell_type": "code",
   "execution_count": 6,
   "id": "97b9b9d4-1b49-443b-9150-2aaa96b7b65e",
   "metadata": {},
   "outputs": [
    {
     "name": "stdin",
     "output_type": "stream",
     "text": [
      "Enter API key for OpenAI:  ········\n"
     ]
    }
   ],
   "source": [
    "os.environ[\"OPENAI_API_KEY\"] = getpass.getpass(\"Enter API key for OpenAI: \")"
   ]
  },
  {
   "cell_type": "code",
   "execution_count": 65,
   "id": "c2ee5b02-d599-4653-952e-40352853c734",
   "metadata": {},
   "outputs": [],
   "source": [
    "llm = OpenAI(\n",
    "    model_name=\"gpt-3.5-turbo-instruct\",\n",
    ")"
   ]
  },
  {
   "cell_type": "markdown",
   "id": "95ffdd02-a2fa-45bc-acc5-2c3122d86495",
   "metadata": {},
   "source": [
    "#### (2) HuggingFace 모델"
   ]
  },
  {
   "cell_type": "raw",
   "id": "92003125-72ff-45cb-a2c4-8d469ea7f1c6",
   "metadata": {
    "scrolled": true
   },
   "source": [
    "# LLM 로드 옵션\n",
    "llm_endpoint_url = \"\" # HuggingFace TGI Server URL\n",
    "llm_model_kwargs = {\n",
    "    \"max_new_tokens\" : 8192,\n",
    "    \"top_k\" : 10,\n",
    "    \"top_p\" : 0.95,\n",
    "    \"typical_p\" : 0.95,\n",
    "    \"temperature\" : 0.5,\n",
    "    \"repetition_penalty\" : 1.05,\n",
    "    \"streaming\" : True\n",
    "}\n",
    "\n",
    "# LLM 로드\n",
    "llm = HuggingFaceEndpoint(\n",
    "    endpoint_url=llm_endpoint_url,\n",
    "    **llm_model_kwargs\n",
    ")"
   ]
  },
  {
   "cell_type": "markdown",
   "id": "a2ec5d35-c7bd-4514-bb51-70a07d1c4d68",
   "metadata": {},
   "source": [
    "## 3. 벡터DB"
   ]
  },
  {
   "cell_type": "markdown",
   "id": "7a589c60-1ce4-4499-9b6b-d356917443cf",
   "metadata": {},
   "source": [
    "### 1) 벡터DB - 참고자료"
   ]
  },
  {
   "cell_type": "code",
   "execution_count": 149,
   "id": "90696244-08e2-4cee-a9f8-80a2525afad3",
   "metadata": {},
   "outputs": [],
   "source": [
    "folder_path_1 = None # 기존 저장한 DB가 있는 경우 \"폴더 경로\" or \"None\"\n",
    "index_name_1 = None # 기존 저장한 DB의 인덱스 이름\n",
    "\n",
    "# 구축한 DB가 없는 경우\n",
    "if folder_path_1 is None:\n",
    "    # 1. 데이터 로드\n",
    "    pdf_loader = PyPDFLoader(\"../../data/Advancements and Applications of Artificial Intelligence Technologies Use Cases and Ethical Challenges_ko.pdf\")\n",
    "    pdf_docs = pdf_loader.load()\n",
    "\n",
    "    # 2. 데이터 청킹\n",
    "    chunks = text_splitter_model.split_documents(pdf_docs)\n",
    "\n",
    "    # 3. 데이터 저장\n",
    "    relevant_info_db = FAISS.from_documents(documents=chunks, embedding=embedding_model)\n",
    "else: # 구축한 DB가 있는 경우\n",
    "    # 1. DB 로드\n",
    "    relevant_info_db = FAISS.load_local(\n",
    "        folder_path=folder_path_1,\n",
    "        index_name=index_name_1,\n",
    "        embeddings=embedding_model,\n",
    "        allow_dangerous_deserialization=True,\n",
    "    )"
   ]
  },
  {
   "cell_type": "markdown",
   "id": "1d04c753-eed5-4d03-9e07-200838cfbc19",
   "metadata": {},
   "source": [
    "### 2) 벡터DB - 참고대화"
   ]
  },
  {
   "cell_type": "code",
   "execution_count": 150,
   "id": "c9915d1d-32eb-4a58-be32-66dc4e95fe59",
   "metadata": {},
   "outputs": [],
   "source": [
    "folder_path_2 = None # 기존 저장한 DB가 있는 경우 \"폴더 경로\" or \"None\"\n",
    "index_name_2 = None # 기존 저장한 DB의 인덱스 이름\n",
    "\n",
    "# 구축한 DB가 없는 경우\n",
    "if folder_path_2 is None:\n",
    "    dimension_size = len(embedding_model.embed_query(\"hello world\"))\n",
    "    \n",
    "    relevant_conv_db = FAISS(\n",
    "        embedding_function=embedding_model,\n",
    "        index=faiss.IndexFlatL2(dimension_size),\n",
    "        docstore=InMemoryDocstore(),\n",
    "        index_to_docstore_id={},\n",
    "    )\n",
    "else: # 구축한 DB가 있는 경우\n",
    "    # 1. DB 로드\n",
    "    relevant_conv_db = FAISS.load_local(\n",
    "        folder_path=folder_path_2,\n",
    "        index_name=index_name_2,\n",
    "        embeddings=embedding_model,\n",
    "        allow_dangerous_deserialization=True,\n",
    "    )"
   ]
  },
  {
   "cell_type": "markdown",
   "id": "c94c47cb-9dc4-449a-b8f1-d75bf7aa9d77",
   "metadata": {},
   "source": [
    "## 4. 메모리"
   ]
  },
  {
   "cell_type": "markdown",
   "id": "ab1eb61e-79f7-4373-bf19-e08257f9fe34",
   "metadata": {},
   "source": [
    "### 1) Previous Conv Memory"
   ]
  },
  {
   "cell_type": "code",
   "execution_count": 193,
   "id": "27bcb93d-6e00-4393-84cd-081b0506962e",
   "metadata": {},
   "outputs": [],
   "source": [
    "prev_conv_memory = []\n",
    "\n",
    "def get_previous_message(message: str) -> str:\n",
    "    \"\"\"이전 대화내용을 반환하는 함수\"\"\"\n",
    "    return \"\\n\".join(prev_conv_memory[:2]) if len(prev_conv_memory) > 1 else \"\""
   ]
  },
  {
   "cell_type": "markdown",
   "id": "405c1784-6818-4ff9-8197-1d4a464101fb",
   "metadata": {},
   "source": [
    "### 2) Relevant Conv Memory"
   ]
  },
  {
   "cell_type": "code",
   "execution_count": 194,
   "id": "922ebba3-1f45-40d2-9502-a00e572d743c",
   "metadata": {},
   "outputs": [],
   "source": [
    "relevant_conv_k = 1 # 검색결과 중 가져올 개수 설정\n",
    "\n",
    "def get_relevant_message(message: str) -> str:\n",
    "    \"\"\"사용자의 질문과 관련된 내용을 벡터DB에서 검색하여 반환하는 함수\"\"\"\n",
    "    # 검색\n",
    "    results = relevant_conv_db.similarity_search(query=message, k=relevant_conv_k)\n",
    "\n",
    "    # 포맷팅\n",
    "    content_list = []\n",
    "    for result in results:\n",
    "        content = result.page_content\n",
    "\n",
    "        content_list.append(content)\n",
    "\n",
    "    return \"\\n\\n\".join(content_list)"
   ]
  },
  {
   "cell_type": "markdown",
   "id": "4c542c66-e0d2-4cd3-a3e9-ec6e167f2afa",
   "metadata": {},
   "source": [
    "### 3) Relevant Info Memory"
   ]
  },
  {
   "cell_type": "code",
   "execution_count": 195,
   "id": "68cc4c76-a2dd-4fe1-84b9-b1872a5303cf",
   "metadata": {},
   "outputs": [],
   "source": [
    "relevant_info_k = 1 # 검색결과 중 가져올 개수 설정\n",
    "\n",
    "def get_relevant_information(message: str) -> str:\n",
    "    \"\"\"사용자의 질문과 관련된 정보를 벡터DB에서 검색하여 반환하는 함수\"\"\"\n",
    "    # 검색\n",
    "    results = relevant_info_db.similarity_search(query=message, k=relevant_info_k)\n",
    "\n",
    "    # 포맷팅\n",
    "    content_list = []\n",
    "    for result in results:\n",
    "        title = os.path.splitext(os.path.basename(result.metadata[\"source\"]))[0]\n",
    "        content = result.page_content\n",
    "        page_num = result.metadata[\"page_label\"]\n",
    "\n",
    "        content_list.append(f\"# {title} - p.{page_num}\\n## {content}\")\n",
    "    \n",
    "    return \"\\n\\n\".join(content_list)"
   ]
  },
  {
   "cell_type": "markdown",
   "id": "344e75ab-ac53-4a09-b2e3-3d8f63b14f61",
   "metadata": {},
   "source": [
    "## 5. 챗봇"
   ]
  },
  {
   "cell_type": "markdown",
   "id": "2cf2ab69-9d73-4cc0-a3be-55402a90703a",
   "metadata": {},
   "source": [
    "### 1) Prompt"
   ]
  },
  {
   "cell_type": "code",
   "execution_count": 196,
   "id": "1a54d7e8-129c-4495-a96e-dc20d610eb2a",
   "metadata": {},
   "outputs": [],
   "source": [
    "from langchain.prompts import PromptTemplate\n",
    "\n",
    "prompt_template = PromptTemplate.from_template(\n",
    "    \"\"\"당신은 사용자의 질문에 대해서 정확하게 답변하는 유능한 챗봇입니다. 아래에 관련된 정보가 있다면 참고하여 답변하세요.\n",
    "\n",
    "    [참고대화]\n",
    "    {relevant_conv}\n",
    "    \n",
    "    [참고정보]\n",
    "    {relevant_info}\n",
    "\n",
    "    이전 대화:\n",
    "    {prev_conv}\n",
    "\n",
    "    Human: {query}\n",
    "    AI:\"\"\"\n",
    ")"
   ]
  },
  {
   "cell_type": "markdown",
   "id": "3e1f668e-00ed-4813-b2de-8487d1f788c1",
   "metadata": {},
   "source": [
    "### 2) Chain"
   ]
  },
  {
   "cell_type": "code",
   "execution_count": 197,
   "id": "972c5910-ebd3-4376-9fce-0b01a15bf29b",
   "metadata": {},
   "outputs": [],
   "source": [
    "# 메모리를 LCEL에 호환되는 형식으로 변경(Runnable 객체)\n",
    "previous_conv = RunnableLambda(lambda x: get_previous_message(x[\"query\"]))\n",
    "relevant_conv = RunnableLambda(lambda x: get_relevant_message(x[\"query\"]))\n",
    "relevant_info = RunnableLambda(lambda x: get_relevant_information(x[\"query\"]))\n",
    "\n",
    "# 입력 쿼리에 대한 Runnable 객체 정의(그대로 통과하도록 설정)\n",
    "query_passthrough = RunnableLambda(lambda x: x[\"query\"])\n",
    "\n",
    "# Chain에 대한 전체 입력을 병합하는 Runnable 객체 정의\n",
    "full_input = RunnableMap(\n",
    "    {\n",
    "        \"prev_conv\": previous_conv,\n",
    "        \"relevant_conv\": relevant_conv,\n",
    "        \"relevant_info\": relevant_info,\n",
    "        \"query\": query_passthrough,\n",
    "    }\n",
    ")\n",
    "\n",
    "# chain 정의\n",
    "chain = full_input | prompt_template | llm | StrOutputParser()"
   ]
  },
  {
   "cell_type": "markdown",
   "id": "4a50cd51-ee4f-4370-8562-b7e9565d92c2",
   "metadata": {},
   "source": [
    "## 6. 테스트"
   ]
  },
  {
   "cell_type": "markdown",
   "id": "52a1a821-c6ea-4517-8e8e-41a654db4791",
   "metadata": {
    "scrolled": true
   },
   "source": [
    "### 1) LLM 챗봇 함수 정의"
   ]
  },
  {
   "cell_type": "code",
   "execution_count": 198,
   "id": "5ab8761e-22d4-42fc-a3ba-921a9f8cf087",
   "metadata": {},
   "outputs": [],
   "source": [
    "def chat_with_memory(query: str, is_stream: bool=False, is_debug: bool=False) -> str:\n",
    "    \"\"\"LLM 챗봇 함수\"\"\"\n",
    "    # 사용자 입력 포맷팅\n",
    "    user_input = {\"query\" : query}\n",
    "\n",
    "    # Debug 모드\n",
    "    if is_debug:\n",
    "        config = {\"callbacks\": [ConsoleCallbackHandler()]}\n",
    "    else:\n",
    "        config = {}\n",
    "    \n",
    "    # Stream 모드\n",
    "    if is_stream:\n",
    "        response_chunks = []\n",
    "        for chunk in chain.stream(user_input, config=config):\n",
    "            print(chunk, end=\"\", flush=True)\n",
    "            response_chunks.append(chunk)\n",
    "        full_response = \"\".join(response_chunks)\n",
    "    else:\n",
    "        full_response = chain.invoke(user_input, config=config)\n",
    "        print(full_response)\n",
    "    \n",
    "    # prev_conv 메모리 업데이트\n",
    "    prev_conv_memory.append(f\"Human: {query}\")\n",
    "    prev_conv_memory.append(f\"AI: {full_response}\")\n",
    "\n",
    "    # relevant_conv 메모리 업데이트\n",
    "    relevant_conv_db.add_documents([Document(page_content=f\"user: {query}\\nai: {full_response}\")])"
   ]
  },
  {
   "cell_type": "markdown",
   "id": "c924b28d-c32a-4cf0-b8ec-5e2d53af854b",
   "metadata": {},
   "source": [
    "### 2) 채팅"
   ]
  },
  {
   "cell_type": "code",
   "execution_count": 199,
   "id": "d5c5d8c9-1256-4619-b3d1-03d2b85b7139",
   "metadata": {},
   "outputs": [],
   "source": [
    "is_stream = True # 스트리밍 출력 설정\n",
    "is_debug = False # 디버그 설정"
   ]
  },
  {
   "cell_type": "code",
   "execution_count": 200,
   "id": "639400da-c241-4cfa-8702-e74f5f8890a9",
   "metadata": {
    "scrolled": true
   },
   "outputs": [
    {
     "name": "stdout",
     "output_type": "stream",
     "text": [
      "🤖 챗봇과 대화를 시작합니다. 종료하려면 '종료'를 입력하세요.\n",
      "\n"
     ]
    },
    {
     "name": "stdin",
     "output_type": "stream",
     "text": [
      "👤 사용자:  안녕하세요\n"
     ]
    },
    {
     "name": "stdout",
     "output_type": "stream",
     "text": [
      "🤖 챗봇: \u001b[32;1m\u001b[1;3m[chain/start]\u001b[0m \u001b[1m[chain:RunnableSequence] Entering Chain run with input:\n",
      "\u001b[0m{\n",
      "  \"input\": \"\"\n",
      "}\n",
      "\u001b[32;1m\u001b[1;3m[chain/start]\u001b[0m \u001b[1m[chain:RunnableSequence > chain:RunnableParallel<prev_conv,relevant_conv,relevant_info,query>] Entering Chain run with input:\n",
      "\u001b[0m{\n",
      "  \"input\": \"\"\n",
      "}\n",
      "\u001b[32;1m\u001b[1;3m[chain/start]\u001b[0m \u001b[1m[chain:RunnableSequence > chain:RunnableParallel<prev_conv,relevant_conv,relevant_info,query> > chain:RunnableLambda] Entering Chain run with input:\n",
      "\u001b[0m{\n",
      "  \"input\": \"\"\n",
      "}\n",
      "\u001b[32;1m\u001b[1;3m[chain/start]\u001b[0m \u001b[1m[chain:RunnableSequence > chain:RunnableParallel<prev_conv,relevant_conv,relevant_info,query> > chain:RunnableLambda] Entering Chain run with input:\n",
      "\u001b[0m{\n",
      "  \"input\": \"\"\n",
      "}\n",
      "\u001b[32;1m\u001b[1;3m[chain/start]\u001b[0m \u001b[1m[chain:RunnableSequence > chain:RunnableParallel<prev_conv,relevant_conv,relevant_info,query> > chain:RunnableLambda] Entering Chain run with input:\n",
      "\u001b[0m{\n",
      "  \"input\": \"\"\n",
      "}\n",
      "\u001b[32;1m\u001b[1;3m[chain/start]\u001b[0m \u001b[1m[chain:RunnableSequence > chain:RunnableParallel<prev_conv,relevant_conv,relevant_info,query> > chain:RunnableLambda] Entering Chain run with input:\n",
      "\u001b[0m{\n",
      "  \"input\": \"\"\n",
      "}\n",
      "\u001b[36;1m\u001b[1;3m[chain/end]\u001b[0m \u001b[1m[chain:RunnableSequence > chain:RunnableParallel<prev_conv,relevant_conv,relevant_info,query> > chain:RunnableLambda] [1ms] Exiting Chain run with output:\n",
      "\u001b[0m{\n",
      "  \"output\": \"안녕하세요\"\n",
      "}\n",
      "\u001b[36;1m\u001b[1;3m[chain/end]\u001b[0m \u001b[1m[chain:RunnableSequence > chain:RunnableParallel<prev_conv,relevant_conv,relevant_info,query> > chain:RunnableLambda] [6ms] Exiting Chain run with output:\n",
      "\u001b[0m{\n",
      "  \"output\": \"\"\n",
      "}\n",
      "\u001b[36;1m\u001b[1;3m[chain/end]\u001b[0m \u001b[1m[chain:RunnableSequence > chain:RunnableParallel<prev_conv,relevant_conv,relevant_info,query> > chain:RunnableLambda] [28ms] Exiting Chain run with output:\n",
      "\u001b[0m{\n",
      "  \"output\": \"user: 안녕\\nai: \"\n",
      "}\n",
      "\u001b[36;1m\u001b[1;3m[chain/end]\u001b[0m \u001b[1m[chain:RunnableSequence > chain:RunnableParallel<prev_conv,relevant_conv,relevant_info,query> > chain:RunnableLambda] [27ms] Exiting Chain run with output:\n",
      "\u001b[0m{\n",
      "  \"output\": \"# Advancements and Applications of Artificial Intelligence Technologies Use Cases and Ethical Challenges_ko - p.1\\n## 자율주행차, 의료 영상 분석, 보안 감시 시스템 등에 실질적으로 적용되고 있다.음성 인식 기술은 스마트폰의 음성 비서, 고객센터의 AI 상담원, 그리고 회의 녹취 자동화 등에 활용되고 있다.\\n\\n이 기술은 파형 데이터를 스펙트로그램으로 변환하고 이를 딥러닝 모델로 해석하는 방식으로 이루어진다.\\n\\nWhisper나 DeepSpeech 같은 오픈소스 프로젝트도 존재한다.이러한 기술들은 단독으로 사용되기보다는 종종 융합되어 멀티모달 AI로 발전하고 있다.\"\n",
      "}\n",
      "\u001b[36;1m\u001b[1;3m[chain/end]\u001b[0m \u001b[1m[chain:RunnableSequence > chain:RunnableParallel<prev_conv,relevant_conv,relevant_info,query>] [31ms] Exiting Chain run with output:\n",
      "\u001b[0m{\n",
      "  \"query\": \"안녕하세요\",\n",
      "  \"prev_conv\": \"\",\n",
      "  \"relevant_conv\": \"user: 안녕\\nai: \",\n",
      "  \"relevant_info\": \"# Advancements and Applications of Artificial Intelligence Technologies Use Cases and Ethical Challenges_ko - p.1\\n## 자율주행차, 의료 영상 분석, 보안 감시 시스템 등에 실질적으로 적용되고 있다.음성 인식 기술은 스마트폰의 음성 비서, 고객센터의 AI 상담원, 그리고 회의 녹취 자동화 등에 활용되고 있다.\\n\\n이 기술은 파형 데이터를 스펙트로그램으로 변환하고 이를 딥러닝 모델로 해석하는 방식으로 이루어진다.\\n\\nWhisper나 DeepSpeech 같은 오픈소스 프로젝트도 존재한다.이러한 기술들은 단독으로 사용되기보다는 종종 융합되어 멀티모달 AI로 발전하고 있다.\"\n",
      "}\n",
      "\u001b[32;1m\u001b[1;3m[chain/start]\u001b[0m \u001b[1m[chain:RunnableSequence > prompt:PromptTemplate] Entering Prompt run with input:\n",
      "\u001b[0m{\n",
      "  \"query\": \"안녕하세요\",\n",
      "  \"prev_conv\": \"\",\n",
      "  \"relevant_conv\": \"user: 안녕\\nai: \",\n",
      "  \"relevant_info\": \"# Advancements and Applications of Artificial Intelligence Technologies Use Cases and Ethical Challenges_ko - p.1\\n## 자율주행차, 의료 영상 분석, 보안 감시 시스템 등에 실질적으로 적용되고 있다.음성 인식 기술은 스마트폰의 음성 비서, 고객센터의 AI 상담원, 그리고 회의 녹취 자동화 등에 활용되고 있다.\\n\\n이 기술은 파형 데이터를 스펙트로그램으로 변환하고 이를 딥러닝 모델로 해석하는 방식으로 이루어진다.\\n\\nWhisper나 DeepSpeech 같은 오픈소스 프로젝트도 존재한다.이러한 기술들은 단독으로 사용되기보다는 종종 융합되어 멀티모달 AI로 발전하고 있다.\"\n",
      "}\n",
      "\u001b[36;1m\u001b[1;3m[chain/end]\u001b[0m \u001b[1m[chain:RunnableSequence > prompt:PromptTemplate] [0ms] Exiting Prompt run with output:\n",
      "\u001b[0m[outputs]\n",
      "\u001b[32;1m\u001b[1;3m[llm/start]\u001b[0m \u001b[1m[chain:RunnableSequence > llm:OpenAI] Entering LLM run with input:\n",
      "\u001b[0m{\n",
      "  \"prompts\": [\n",
      "    \"당신은 사용자의 질문에 대해서 정확하게 답변하는 유능한 챗봇입니다. 아래에 관련된 정보가 있다면 참고하여 답변하세요.\\n\\n    [참고대화]\\n    user: 안녕\\nai: \\n\\n    [참고정보]\\n    # Advancements and Applications of Artificial Intelligence Technologies Use Cases and Ethical Challenges_ko - p.1\\n## 자율주행차, 의료 영상 분석, 보안 감시 시스템 등에 실질적으로 적용되고 있다.음성 인식 기술은 스마트폰의 음성 비서, 고객센터의 AI 상담원, 그리고 회의 녹취 자동화 등에 활용되고 있다.\\n\\n이 기술은 파형 데이터를 스펙트로그램으로 변환하고 이를 딥러닝 모델로 해석하는 방식으로 이루어진다.\\n\\nWhisper나 DeepSpeech 같은 오픈소스 프로젝트도 존재한다.이러한 기술들은 단독으로 사용되기보다는 종종 융합되어 멀티모달 AI로 발전하고 있다.\\n\\n    이전 대화:\\n    \\n\\n    Human: 안녕하세요\\n    AI:\"\n",
      "  ]\n",
      "}\n",
      "\u001b[32;1m\u001b[1;3m[chain/start]\u001b[0m \u001b[1m[chain:RunnableSequence > parser:StrOutputParser] Entering Parser run with input:\n",
      "\u001b[0m{\n",
      "  \"input\": \"\"\n",
      "}\n",
      " 안녕하세요! 나는 인공지능 챗봇이에요. 무엇을 도와드릴까요?\u001b[36;1m\u001b[1;3m[llm/end]\u001b[0m \u001b[1m[chain:RunnableSequence > llm:OpenAI] [1.01s] Exiting LLM run with output:\n",
      "\u001b[0m{\n",
      "  \"generations\": [\n",
      "    [\n",
      "      {\n",
      "        \"text\": \" 안녕하세요! 나는 인공지능 챗봇이에요. 무엇을 도와드릴까요?\",\n",
      "        \"generation_info\": {\n",
      "          \"finish_reason\": \"stop\",\n",
      "          \"logprobs\": null\n",
      "        },\n",
      "        \"type\": \"Generation\"\n",
      "      }\n",
      "    ]\n",
      "  ],\n",
      "  \"llm_output\": null,\n",
      "  \"run\": null,\n",
      "  \"type\": \"LLMResult\"\n",
      "}\n",
      "\u001b[36;1m\u001b[1;3m[chain/end]\u001b[0m \u001b[1m[chain:RunnableSequence > parser:StrOutputParser] [299ms] Exiting Parser run with output:\n",
      "\u001b[0m{\n",
      "  \"output\": \" 안녕하세요! 나는 인공지능 챗봇이에요. 무엇을 도와드릴까요?\"\n",
      "}\n",
      "\u001b[36;1m\u001b[1;3m[chain/end]\u001b[0m \u001b[1m[chain:RunnableSequence] [1.04s] Exiting Chain run with output:\n",
      "\u001b[0m{\n",
      "  \"output\": \" 안녕하세요! 나는 인공지능 챗봇이에요. 무엇을 도와드릴까요?\"\n",
      "}\n",
      "\n",
      "\n"
     ]
    },
    {
     "name": "stdin",
     "output_type": "stream",
     "text": [
      "👤 사용자:  종료\n"
     ]
    },
    {
     "name": "stdout",
     "output_type": "stream",
     "text": [
      "\n",
      "✅ 채팅을 종료합니다.\n"
     ]
    }
   ],
   "source": [
    "print(\"🤖 챗봇과 대화를 시작합니다. 종료하려면 '종료'를 입력하세요.\\n\")\n",
    "while True:\n",
    "    # 질문 입력\n",
    "    user_query = input(\"👤 사용자: \")\n",
    "\n",
    "    # 종료\n",
    "    if user_query.strip().lower() in [\"종료\"]:\n",
    "        print(\"\\n✅ 채팅을 종료합니다.\")\n",
    "        break\n",
    "\n",
    "    # 챗봇 출력\n",
    "    print(\"🤖 챗봇:\", end=\" \", flush=True)\n",
    "    chat_with_memory(user_query, is_stream=is_stream, is_debug=is_debug)\n",
    "    print(\"\\n\")"
   ]
  },
  {
   "cell_type": "markdown",
   "id": "a756ea06-5fb1-4049-b7c1-c08d952951a7",
   "metadata": {},
   "source": [
    "## 7. 벡터DB 저장"
   ]
  },
  {
   "cell_type": "markdown",
   "id": "5bc30cc6-1584-4ce4-8f20-691fa44fdaa6",
   "metadata": {},
   "source": [
    "### 1) 참고자료 DB"
   ]
  },
  {
   "cell_type": "code",
   "execution_count": 126,
   "id": "eaf83ad2-822e-4e63-b074-de66c679e4a1",
   "metadata": {},
   "outputs": [],
   "source": [
    "relevant_info_db.save_local(\"../../db/faiss/relevant_info\")"
   ]
  },
  {
   "cell_type": "markdown",
   "id": "c4de9f81-5b1f-4bad-9a55-6976c6e0defc",
   "metadata": {},
   "source": [
    "### 2) 참고대화 DB"
   ]
  },
  {
   "cell_type": "code",
   "execution_count": 125,
   "id": "4ea3dd9b-2fff-44c1-9931-3130a74026b3",
   "metadata": {},
   "outputs": [],
   "source": [
    "relevant_conv_db.save_local(\"../../db/faiss/relevant_conv\")"
   ]
  }
 ],
 "metadata": {
  "kernelspec": {
   "display_name": "Python 3 (ipykernel)",
   "language": "python",
   "name": "python3"
  },
  "language_info": {
   "codemirror_mode": {
    "name": "ipython",
    "version": 3
   },
   "file_extension": ".py",
   "mimetype": "text/x-python",
   "name": "python",
   "nbconvert_exporter": "python",
   "pygments_lexer": "ipython3",
   "version": "3.11.13"
  }
 },
 "nbformat": 4,
 "nbformat_minor": 5
}
